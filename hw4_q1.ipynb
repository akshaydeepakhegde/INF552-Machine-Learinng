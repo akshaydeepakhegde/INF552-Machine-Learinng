{
 "cells": [
  {
   "cell_type": "code",
   "execution_count": 3,
   "metadata": {},
   "outputs": [],
   "source": [
    "import pandas as pd\n",
    "import numpy as np\n",
    "import matplotlib.pylab as plt\n",
    "import scipy  \n",
    "import scikits.bootstrap as bootstrap\n",
    "import statsmodels.stats.api as sms\n",
    "from sklearn import preprocessing\n",
    "from sklearn import metrics\n",
    "import pandas as pd\n",
    "from ggplot import *\n",
    "from scipy import stats\n",
    "import statsmodels.api as sm\n",
    "from sklearn import model_selection\n",
    "from sklearn.model_selection import cross_val_score\n",
    "from sklearn.utils import shuffle\n",
    "import numpy as np\n",
    "from sklearn.preprocessing import Imputer\n",
    "from scipy.stats import variation\n",
    "from sklearn.metrics import mean_squared_error, r2_score\n",
    "from sklearn.linear_model import Ridge\n",
    "from sklearn import linear_model\n",
    "from sklearn.preprocessing import scale\n",
    "from sklearn import cross_validation\n",
    "from sklearn.preprocessing import Imputer\n",
    "from sklearn.datasets import make_classification\n",
    "import seaborn as sns\n",
    "from sklearn.metrics import hamming_loss,accuracy_score\n",
    "from sklearn import svm\n",
    "from sklearn.svm import SVC\n",
    "from sklearn.learning_curve import learning_curve\n",
    "from sklearn.model_selection import cross_val_score\n",
    "from sklearn.model_selection import KFold\n",
    "from sklearn.model_selection import GridSearchCV\n",
    "from sklearn.metrics import average_precision_score\n",
    "from sklearn.metrics import precision_recall_curve"
   ]
  },
  {
   "cell_type": "code",
   "execution_count": 4,
   "metadata": {},
   "outputs": [],
   "source": [
    "import pandas as pd\n",
    "from ggplot import *\n",
    "from scipy import stats\n",
    "from sklearn.metrics import mean_squared_error, r2_score\n",
    "from sklearn.linear_model import Ridge"
   ]
  },
  {
   "cell_type": "code",
   "execution_count": 5,
   "metadata": {},
   "outputs": [
    {
     "name": "stdout",
     "output_type": "stream",
     "text": [
      "   variance  skewness  curtosis  entropy  class\n",
      "0   3.62160    8.6661   -2.8073 -0.44699      0\n",
      "1   4.54590    8.1674   -2.4586 -1.46210      0\n",
      "2   3.86600   -2.6383    1.9242  0.10645      0\n",
      "3   3.45660    9.5228   -4.0112 -3.59440      0\n",
      "4   0.32924   -4.4552    4.5718 -0.98880      0\n"
     ]
    }
   ],
   "source": [
    "columns = ['variance', 'skewness', 'curtosis','entropy','class']\n",
    "data_banknote_authentication = pd.read_csv('C:/Users/aksha/Downloads/INF552/data_banknote_authentication.txt', sep=',', header=None,names=columns)\n",
    "print data_banknote_authentication.head()"
   ]
  },
  {
   "cell_type": "code",
   "execution_count": 6,
   "metadata": {},
   "outputs": [],
   "source": [
    "test_data = data_banknote_authentication.sample(n=472,replace=False)\n",
    "train_data = data_banknote_authentication[~data_banknote_authentication.index.isin(test_data.index)]"
   ]
  },
  {
   "cell_type": "code",
   "execution_count": null,
   "metadata": {},
   "outputs": [],
   "source": [
    "# # the procedure is repeated 5 times for submission (as 50 times was taking a lot of time)"
   ]
  },
  {
   "cell_type": "code",
   "execution_count": 7,
   "metadata": {},
   "outputs": [
    {
     "name": "stderr",
     "output_type": "stream",
     "text": [
      "c:\\python27\\lib\\site-packages\\sklearn\\utils\\validation.py:578: DataConversionWarning: A column-vector y was passed when a 1d array was expected. Please change the shape of y to (n_samples, ), for example using ravel().\n",
      "  y = column_or_1d(y, warn=True)\n"
     ]
    },
    {
     "name": "stdout",
     "output_type": "stream",
     "text": [
      "[0.941, 0.981, 0.975, 0.994, 0.983]\n",
      "[0.975, 0.975, 0.983, 0.994, 0.994]\n",
      "[0.992, 0.992, 0.987, 0.989, 0.989]\n",
      "[0.987, 0.989, 0.989, 0.985, 0.985]\n",
      "[0.987, 0.987, 0.987, 0.994, 0.994]\n"
     ]
    }
   ],
   "source": [
    "from sklearn.model_selection import KFold\n",
    "\n",
    "new_test_data=pd.DataFrame()\n",
    "passive_test_totalerror = []\n",
    "\n",
    "for i in range(0,5):    \n",
    "    \n",
    "    passive_test_error = []\n",
    "    passive_penalty_ = []\n",
    "    \n",
    "    for j in range(0,5):\n",
    "        \n",
    "        extracted_data = train_data.sample(n=10,replace=False)\n",
    "        new_test_data =pd.concat([new_test_data, extracted_data], axis=0)\n",
    "        traindata_X = new_test_data.drop('class', axis=1)\n",
    "        traindata1_y = new_test_data['class']\n",
    "        traindata_y = traindata1_y.to_frame();\n",
    "        \n",
    "        testdata_x = test_data.drop('class', axis=1)\n",
    "        testdata1_y = test_data['class']\n",
    "        testdata_y = testdata1_y.to_frame();\n",
    "    \n",
    "        rangeofC = np.logspace(-2,10,13)    \n",
    "        gridparameters = dict(C=rangeofC)\n",
    "        svc = svm.LinearSVC(penalty='l1',dual=False)\n",
    "        \n",
    "        cv=KFold(10)\n",
    "        c_l_f = GridSearchCV(svc,param_grid=gridparameters,cv=cv,n_jobs=10)\n",
    "        c_l_f.fit(traindata_X, traindata_y)\n",
    "        prediction_y = c_l_f.predict(testdata_x)\n",
    "        score = round(c_l_f.score(testdata_x, testdata_y),3)\n",
    "        passive_penalty_.append(c_l_f.best_params_)\n",
    "        passive_test_error.append(score)\n",
    "    print passive_test_error\n",
    "    passive_test_totalerror.append(passive_test_error)   \n",
    "    passive_penalty_"
   ]
  },
  {
   "cell_type": "code",
   "execution_count": 8,
   "metadata": {},
   "outputs": [
    {
     "name": "stdout",
     "output_type": "stream",
     "text": [
      "[[0.941, 0.981, 0.975, 0.994, 0.983], [0.975, 0.975, 0.983, 0.994, 0.994], [0.992, 0.992, 0.987, 0.989, 0.989], [0.987, 0.989, 0.989, 0.985, 0.985], [0.987, 0.987, 0.987, 0.994, 0.994]]\n",
      "[{'C': 1.0}, {'C': 1.0}, {'C': 1.0}, {'C': 10.0}, {'C': 10.0}]\n"
     ]
    }
   ],
   "source": [
    "print passive_test_totalerror\n",
    "print passive_penalty_ "
   ]
  },
  {
   "cell_type": "code",
   "execution_count": 9,
   "metadata": {},
   "outputs": [
    {
     "data": {
      "text/html": [
       "<div>\n",
       "<style scoped>\n",
       "    .dataframe tbody tr th:only-of-type {\n",
       "        vertical-align: middle;\n",
       "    }\n",
       "\n",
       "    .dataframe tbody tr th {\n",
       "        vertical-align: top;\n",
       "    }\n",
       "\n",
       "    .dataframe thead th {\n",
       "        text-align: right;\n",
       "    }\n",
       "</style>\n",
       "<table border=\"1\" class=\"dataframe\">\n",
       "  <thead>\n",
       "    <tr style=\"text-align: right;\">\n",
       "      <th></th>\n",
       "      <th>0</th>\n",
       "      <th>1</th>\n",
       "      <th>2</th>\n",
       "      <th>3</th>\n",
       "      <th>4</th>\n",
       "    </tr>\n",
       "  </thead>\n",
       "  <tbody>\n",
       "    <tr>\n",
       "      <th>0</th>\n",
       "      <td>0.941</td>\n",
       "      <td>0.981</td>\n",
       "      <td>0.975</td>\n",
       "      <td>0.994</td>\n",
       "      <td>0.983</td>\n",
       "    </tr>\n",
       "    <tr>\n",
       "      <th>1</th>\n",
       "      <td>0.975</td>\n",
       "      <td>0.975</td>\n",
       "      <td>0.983</td>\n",
       "      <td>0.994</td>\n",
       "      <td>0.994</td>\n",
       "    </tr>\n",
       "    <tr>\n",
       "      <th>2</th>\n",
       "      <td>0.992</td>\n",
       "      <td>0.992</td>\n",
       "      <td>0.987</td>\n",
       "      <td>0.989</td>\n",
       "      <td>0.989</td>\n",
       "    </tr>\n",
       "    <tr>\n",
       "      <th>3</th>\n",
       "      <td>0.987</td>\n",
       "      <td>0.989</td>\n",
       "      <td>0.989</td>\n",
       "      <td>0.985</td>\n",
       "      <td>0.985</td>\n",
       "    </tr>\n",
       "    <tr>\n",
       "      <th>4</th>\n",
       "      <td>0.987</td>\n",
       "      <td>0.987</td>\n",
       "      <td>0.987</td>\n",
       "      <td>0.994</td>\n",
       "      <td>0.994</td>\n",
       "    </tr>\n",
       "  </tbody>\n",
       "</table>\n",
       "</div>"
      ],
      "text/plain": [
       "       0      1      2      3      4\n",
       "0  0.941  0.981  0.975  0.994  0.983\n",
       "1  0.975  0.975  0.983  0.994  0.994\n",
       "2  0.992  0.992  0.987  0.989  0.989\n",
       "3  0.987  0.989  0.989  0.985  0.985\n",
       "4  0.987  0.987  0.987  0.994  0.994"
      ]
     },
     "metadata": {},
     "output_type": "display_data"
    },
    {
     "name": "stdout",
     "output_type": "stream",
     "text": [
      "[0.9763999999999999, 0.9847999999999999, 0.9841999999999999, 0.9911999999999999, 0.9889999999999999]\n"
     ]
    }
   ],
   "source": [
    "passive_test_totalerror=pd.DataFrame(passive_test_totalerror)\n",
    "display(passive_test_totalerror)\n",
    "passive_test_totalerror=passive_test_totalerror.mean()\n",
    "passive_test_totalerror= passive_test_totalerror.values.tolist()\n",
    "print passive_test_totalerror"
   ]
  },
  {
   "cell_type": "code",
   "execution_count": 10,
   "metadata": {},
   "outputs": [],
   "source": [
    "traindata_X_full = train_data.drop('class', axis=1)\n",
    "traindata1_y = train_data['class']\n",
    "traindata_y_full = traindata1_y.to_frame();\n",
    "\n",
    "\n",
    "testdata_x_full = test_data.drop('class', axis=1)\n",
    "testdata1_y = test_data['class']\n",
    "testdata_y_full = testdata1_y.to_frame();"
   ]
  },
  {
   "cell_type": "code",
   "execution_count": 11,
   "metadata": {},
   "outputs": [
    {
     "data": {
      "text/plain": [
       "LinearSVC(C=1.0, class_weight=None, dual=False, fit_intercept=True,\n",
       "     intercept_scaling=1, loss='squared_hinge', max_iter=1000,\n",
       "     multi_class='ovr', penalty='l1', random_state=None, tol=0.0001,\n",
       "     verbose=0)"
      ]
     },
     "execution_count": 11,
     "metadata": {},
     "output_type": "execute_result"
    }
   ],
   "source": [
    "c_l_f = svm.LinearSVC(penalty='l1',dual=False)\n",
    "c_l_f.fit(traindata_X_full, traindata_y_full)"
   ]
  },
  {
   "cell_type": "code",
   "execution_count": 12,
   "metadata": {},
   "outputs": [
    {
     "name": "stdout",
     "output_type": "stream",
     "text": [
      "[[-1.66365602 -0.9328637  -1.13543845 -0.19230385]]\n"
     ]
    }
   ],
   "source": [
    "print(c_l_f.coef_)"
   ]
  },
  {
   "cell_type": "code",
   "execution_count": 13,
   "metadata": {},
   "outputs": [
    {
     "name": "stdout",
     "output_type": "stream",
     "text": [
      "[1.54396135]\n"
     ]
    }
   ],
   "source": [
    "print(c_l_f.intercept_)"
   ]
  },
  {
   "cell_type": "code",
   "execution_count": 14,
   "metadata": {},
   "outputs": [],
   "source": [
    "prediction_y = (c_l_f.predict(testdata_x_full))"
   ]
  },
  {
   "cell_type": "code",
   "execution_count": 16,
   "metadata": {},
   "outputs": [],
   "source": [
    "#ycm=confusion_matrix(testdata_y_full, prediction_y)"
   ]
  },
  {
   "cell_type": "code",
   "execution_count": 17,
   "metadata": {},
   "outputs": [
    {
     "name": "stdout",
     "output_type": "stream",
     "text": [
      "[9.292, 7.844, 0.151, 9.641, 8.177, 5.078, 8.184, 6.014, 8.274, 8.753, 7.32, 6.295, 7.497, 12.376, 9.371, 3.415, 7.384, 12.906, 7.553, 3.478, 9.815, 7.881, 7.249, 6.7, 8.372, 1.199, 6.268, 8.159, 8.853, 8.228, 7.702, 9.352, 8.251, 6.878, 8.869, 9.322, 8.413, 10.333, 5.222, 5.968, 6.367, 2.103, 9.33, 7.517, 5.509, 7.352, 6.551, 5.63, 7.391, 10.423, 6.514, 9.914, 6.327, 6.155, 8.058, 7.577, 9.274, 11.244, 7.975, 8.71, 7.101, 7.193, 5.183, 9.459, 5.718, 2.043, 5.28, 4.874, 9.484, 6.343, 3.194, 7.093, 7.426, 4.183, 6.939, 8.19, 6.925, 6.396, 8.697, 6.124, 6.895, 9.531, 9.281, 5.534, 6.583, 8.837, 9.277, 4.588, 7.495, 3.976, 11.506, 6.576, 5.444, 10.956, 9.969, 1.199, 8.22, 5.58, 9.14, 0.405, 6.312, 9.513, 10.643, 9.048, 8.824, 7.697, 2.07, 7.149, 8.445, 5.662, 5.359, 6.941, 3.797, 7.849, 2.271, 0.684, 5.697, 6.838, 6.792, 4.756, 7.853, 6.107, 4.232, 5.899, 6.596, 8.984, 9.251, 7.881, 7.411, 5.976, 5.766, 1.675, 5.66, 10.284, 5.45, 9.782, 7.199, 6.12, 10.473, 5.853, 0.328, 7.436, 8.537, 8.815, 7.023, 8.156, 7.449, 7.998, 7.222, 10.132, 3.978, 5.965, 1.391, 9.115, 7.568, 5.161, 8.797, 0.684, 0.944, 8.181, 7.508, 7.101, 6.353, 6.209, 6.12, 7.606, 7.123, 9.221, 6.31, 7.282, 5.262, 7.269, 6.818, 0.524, 6.078, 8.956, 6.576, 3.448, 8.11, 9.365, 7.234, 7.683, 7.075, 7.388, 8.427, 1.675, 11.778, 8.258, 7.72, 7.722, 5.078, 3.509, 1.391, 4.488, 5.415, 7.401, 6.986, 9.519, 6.625, 4.522, 7.076, 8.188, 6.613, 7.22, 6.772, 8.43, 8.141, 2.849, 9.99, 5.531, 6.957, 4.574, 5.734, 6.983, 0.405, 8.542, 6.446, 8.053, 9.555, 1.356, 9.813, 7.315, 5.337, 7.976, 8.535, 5.59, 9.578, 8.086, 7.875, 11.29, 6.094, 6.899, 0.478, 7.533, 0.405, 7.205, 7.755, 6.982, 7.509, 8.447, 6.37, 3.848, 8.216, 8.331, 10.534, 7.318, 4.941, 7.759, 3.718, 7.076, 8.025, 6.694, 8.024, 8.79, 6.493, 9.073, 6.235, 8.818, 2.763, 6.961, 8.996, 4.832, 2.837, 6.338, 4.727, 5.346, 8.98, 3.772, 0.524, 7.199, 6.692, 5.165, 7.542, 6.468, 7.405, 6.035, 5.947, 6.445, 8.151, 6.616, 10.102, 7.872, 8.408, 1.391, 5.236, 10.756, 0.524, 8.266, 8.267, 7.543, 6.992, 8.136, 7.009, 5.519, 8.909, 5.749, 6.098, 11.953, 6.532, 8.34, 6.584, 5.19, 10.938, 7.192, 5.839, 8.267, 7.264, 8.285, 0.524, 6.446, 7.755, 8.788, 8.535, 7.938, 8.663, 8.422, 6.155, 6.429, 8.046, 9.032, 5.431, 2.483, 5.416, 6.649, 0.684, 6.625, 9.209, 5.268, 4.576, 7.216, 7.126, 9.083, 8.986, 5.408, 8.934, 9.251, 5.156, 9.292, 8.86, 5.107, 2.991, 5.572, 7.752, 10.633, 8.758, 7.985, 5.849, 8.332, 6.494, 8.364, 9.269, 5.531, 7.576, 4.507, 6.409, 7.582, 7.086, 8.346, 3.628, 5.583, 5.015, 7.653, 9.749, 6.132, 5.81, 10.278, 9.282, 10.549, 9.862, 4.589, 2.038, 11.5, 6.416, 9.663, 6.233, 4.221, 6.983, 10.832, 4.223, 7.356, 5.49, 6.077, 9.058, 1.588, 5.967, 7.457, 3.083, 9.159, 5.51, 7.121, 8.244, 7.337, 8.443, 8.128, 0.944, 6.127, 6.29, 11.244, 6.132, 8.337, 7.45, 8.403, 9.065, 1.199, 9.551, 1.588, 4.309, 7.69, 8.007, 7.137, 9.786, 10.338, 5.335, 7.89, 7.363, 7.038, 3.75, 7.083, 7.481, 5.397, 9.09, 8.973, 5.004, 7.388, 8.72, 6.078, 6.9, 8.292, 8.32, 7.542, 1.588, 6.121, 5.703, 7.214, 8.291, 7.846, 6.707, 0.684, 4.325, 8.374, 4.111, 5.024, 8.214, 4.188, 4.853, 6.659, 9.767, 6.387, 4.643, 7.992, 3.205, 10.479, 0.684, 10.181, 7.408, 2.62, 6.801, 9.59, 6.463, 8.312, 11.707, 6.035, 7.526, 5.669, 7.192, 5.561, 7.306, 6.145, 10.618, 8.202, 0.405, 8.292, 7.283, 4.398, 10.45, 10.81, 7.361, 3.723, 8.319, 7.613, 6.258, 4.805, 7.248, 7.059, 7.723, 4.771, 7.921, 8.25, 11.407, 5.84, 11.035, 7.284, 6.693, 4.765, 6.483, 8.444, 9.345, 6.936, 7.42, 6.052, 5.991, 0.997, 1.844, 2.331, 3.507, 5.218, 1.155, 2.679, 3.722, 3.28, 2.786, 4.776, 2.907, 4.491, 2.974, 4.21, 5.718, 1.66, 2.45, 3.775, 2.856, 2.39, 0.927, 2.815, 3.773, 2.539, 1.838, 3.548, 5.722, 4.463, 5.869, 5.614, 3.847, 4.079, 4.061, 1.663, 1.105, 2.868, 1.488, 1.231, 1.362, 2.117, 4.292, 2.375, 3.193, 3.455, 3.771, 3.761, 4.572, 3.289, 4.11, 6.066, 3.089, 4.058, 5.459, 3.802, 6.608, 4.079, 1.937, 4.626, 5.312, 4.229, 4.805, 5.536, 5.85, 3.264, 2.144, 4.149, 6.494, 6.389, 6.047, 4.142, 4.915, 5.252, 1.926, 3.433, 4.109, 3.002, 2.37, 2.745, 4.903, 0.733, 1.635, 1.231, 1.576, 4.249, 2.125, 0.783, 2.336, 2.609, 1.533, 5.627, 0.846, 4.576, 1.361, 3.906, 4.274, 4.651, 1.766, 2.667, 3.408, 3.345, 0.464, 2.176, 3.995, 0.398, 0.096, 2.926, 5.001, 4.312, 4.829, 4.815, 3.487, 2.2, 3.734, 3.341, 0.634, 0.242, 2.515, 1.156, 0.05, 2.652, 1.638, 2.334, 2.513, 2.736, 3.201, 4.613, 3.263, 2.788, 2.984, 2.443, 6.215, 3.757, 1.966, 2.926, 4.882, 3.259, 4.372, 5.442, 2.117, 4.508, 4.246, 1.722, 0.44, 4.675, 4.77, 4.768, 2.077, 3.766, 6.103, 5.339, 5.363, 5.699, 3.724, 4.099, 4.304, 2.081, 1.073, 1.928, 1.718, 1.814, 3.708, 2.272, 1.224, 2.325, 2.528, 2.205, 1.087, 2.441, 2.189, 4.579, 4.908, 1.103, 3.125, 4.802, 2.016, 4.087, 4.948, 2.555, 2.683, 3.14, 1.316, 0.565, 3.244, 3.586, 4.098, 1.5, 4.015, 4.115, 4.921, 4.083, 3.528, 4.71, 3.799, 0.609, 3.005, 0.894, 0.996, 1.781, 3.523, 1.898, 1.588, 1.26, 2.088, 2.452, 1.485, 3.578, 5.169, 2.498, 0.888, 2.66, 2.82, 4.02, 0.172, 1.872, 3.549, 3.069, 3.526, 0.177, 4.157, 4.159, 4.338, 3.797, 1.161, 3.213, 5.555, 4.803, 5.211, 5.392, 3.208, 3.403, 0.996, 0.55, 2.217, 0.812, 0.763, 1.003, 3.16, 3.922, 2.318, 2.912, 2.624, 2.925, 3.509, 2.385, 3.7, 3.517, 2.565, 6.62, 4.321, 2.689, 2.895, 3.791, 5.696, 3.867, 4.918, 6.072, 3.72, 1.606, 4.755, 3.816, 4.377, 0.836, 2.978, 4.713, 5.046, 2.355, 1.552, 3.625, 5.558, 5.893, 3.649, 4.778, 2.93, 1.727, 2.663, 4.308, 3.066, 1.9, 2.874, 3.482, 3.758, 4.13, 5.214, 3.984, 4.253, 4.231, 3.15, 4.642, 4.765, 3.22, 4.11, 5.725, 5.04, 3.471, 4.184, 5.359, 6.544, 4.259, 5.177, 4.496, 4.686, 5.263, 2.779, 3.522, 5.068, 5.292, 5.631, 5.283, 6.454, 6.124, 4.201, 4.355, 5.941, 3.043, 1.816, 3.142, 3.51, 2.564, 2.335, 4.814, 2.818, 4.008, 2.621, 4.344, 4.012, 3.328, 2.79, 5.924, 5.245, 4.147, 4.052, 4.924, 4.627, 3.861, 4.669, 2.973, 1.645, 4.633, 5.884, 6.026, 3.467, 4.16, 6.167, 5.265, 5.762, 3.673, 2.487, 5.019, 3.903, 2.786, 2.937, 4.489, 1.676, 2.03, 2.367, 4.14, 2.138, 2.296, 2.759, 1.642, 5.089, 2.549, 0.945, 2.208, 3.239, 1.885, 2.714, 3.569, 2.103, 3.494, 4.593, 0.572, 3.129, 2.113, 2.986, 0.964, 2.038, 3.609, 3.791, 4.08, 3.964, 0.718, 2.788, 5.552, 4.617, 4.433, 2.568, 4.139, 3.934, 1.366, 0.628, 2.201, 2.767, 1.364, 0.984, 0.896, 1.468, 3.109]\n",
      "[0.05, 0.096, 0.151, 0.172, 0.177, 0.242, 0.328, 0.398, 0.405, 0.405, 0.405, 0.405, 0.44, 0.464, 0.478, 0.524, 0.524, 0.524, 0.524, 0.55, 0.565, 0.572, 0.609, 0.628, 0.634, 0.684, 0.684, 0.684, 0.684, 0.684, 0.718, 0.733, 0.763, 0.783, 0.812, 0.836, 0.846, 0.888, 0.894, 0.896, 0.927, 0.944, 0.944, 0.945, 0.964, 0.984, 0.996, 0.996, 0.997, 1.003, 1.073, 1.087, 1.103, 1.105, 1.155, 1.156, 1.161, 1.199, 1.199, 1.199, 1.224, 1.231, 1.231, 1.26, 1.316, 1.356, 1.361, 1.362, 1.364, 1.366, 1.391, 1.391, 1.391, 1.468, 1.485, 1.488, 1.5, 1.533, 1.552, 1.576, 1.588, 1.588, 1.588, 1.588, 1.606, 1.635, 1.638, 1.642, 1.645, 1.66, 1.663, 1.675, 1.675, 1.676, 1.718, 1.722, 1.727, 1.766, 1.781, 1.814, 1.816, 1.838, 1.844, 1.872, 1.885, 1.898, 1.9, 1.926, 1.928, 1.937, 1.966, 2.016, 2.03, 2.038, 2.038, 2.043, 2.07, 2.077, 2.081, 2.088, 2.103, 2.103, 2.113, 2.117, 2.117, 2.125, 2.138, 2.144, 2.176, 2.189, 2.2, 2.201, 2.205, 2.208, 2.217, 2.271, 2.272, 2.296, 2.318, 2.325, 2.331, 2.334, 2.335, 2.336, 2.355, 2.367, 2.37, 2.375, 2.385, 2.39, 2.441, 2.443, 2.45, 2.452, 2.483, 2.487, 2.498, 2.513, 2.515, 2.528, 2.539, 2.549, 2.555, 2.564, 2.565, 2.568, 2.609, 2.62, 2.621, 2.624, 2.652, 2.66, 2.663, 2.667, 2.679, 2.683, 2.689, 2.714, 2.736, 2.745, 2.759, 2.763, 2.767, 2.779, 2.786, 2.786, 2.788, 2.788, 2.79, 2.815, 2.818, 2.82, 2.837, 2.849, 2.856, 2.868, 2.874, 2.895, 2.907, 2.912, 2.925, 2.926, 2.926, 2.93, 2.937, 2.973, 2.974, 2.978, 2.984, 2.986, 2.991, 3.002, 3.005, 3.043, 3.066, 3.069, 3.083, 3.089, 3.109, 3.125, 3.129, 3.14, 3.142, 3.15, 3.16, 3.193, 3.194, 3.201, 3.205, 3.208, 3.213, 3.22, 3.239, 3.244, 3.259, 3.263, 3.264, 3.28, 3.289, 3.328, 3.341, 3.345, 3.403, 3.408, 3.415, 3.433, 3.448, 3.455, 3.467, 3.471, 3.478, 3.482, 3.487, 3.494, 3.507, 3.509, 3.509, 3.51, 3.517, 3.522, 3.523, 3.526, 3.528, 3.548, 3.549, 3.569, 3.578, 3.586, 3.609, 3.625, 3.628, 3.649, 3.673, 3.7, 3.708, 3.718, 3.72, 3.722, 3.723, 3.724, 3.734, 3.75, 3.757, 3.758, 3.761, 3.766, 3.771, 3.772, 3.773, 3.775, 3.791, 3.791, 3.797, 3.797, 3.799, 3.802, 3.816, 3.847, 3.848, 3.861, 3.867, 3.903, 3.906, 3.922, 3.934, 3.964, 3.976, 3.978, 3.984, 3.995, 4.008, 4.012, 4.015, 4.02, 4.052, 4.058, 4.061, 4.079, 4.079, 4.08, 4.083, 4.087, 4.098, 4.099, 4.109, 4.11, 4.11, 4.111, 4.115, 4.13, 4.139, 4.14, 4.142, 4.147, 4.149, 4.157, 4.159, 4.16, 4.183, 4.184, 4.188, 4.201, 4.21, 4.221, 4.223, 4.229, 4.231, 4.232, 4.246, 4.249, 4.253, 4.259, 4.274, 4.292, 4.304, 4.308, 4.309, 4.312, 4.321, 4.325, 4.338, 4.344, 4.355, 4.372, 4.377, 4.398, 4.433, 4.463, 4.488, 4.489, 4.491, 4.496, 4.507, 4.508, 4.522, 4.572, 4.574, 4.576, 4.576, 4.579, 4.588, 4.589, 4.593, 4.613, 4.617, 4.626, 4.627, 4.633, 4.642, 4.643, 4.651, 4.669, 4.675, 4.686, 4.71, 4.713, 4.727, 4.755, 4.756, 4.765, 4.765, 4.768, 4.77, 4.771, 4.776, 4.778, 4.802, 4.803, 4.805, 4.805, 4.814, 4.815, 4.829, 4.832, 4.853, 4.874, 4.882, 4.903, 4.908, 4.915, 4.918, 4.921, 4.924, 4.941, 4.948, 5.001, 5.004, 5.015, 5.019, 5.024, 5.04, 5.046, 5.068, 5.078, 5.078, 5.089, 5.107, 5.156, 5.161, 5.165, 5.169, 5.177, 5.183, 5.19, 5.211, 5.214, 5.218, 5.222, 5.236, 5.245, 5.252, 5.262, 5.263, 5.265, 5.268, 5.28, 5.283, 5.292, 5.312, 5.335, 5.337, 5.339, 5.346, 5.359, 5.359, 5.363, 5.392, 5.397, 5.408, 5.415, 5.416, 5.431, 5.442, 5.444, 5.45, 5.459, 5.49, 5.509, 5.51, 5.519, 5.531, 5.531, 5.534, 5.536, 5.552, 5.555, 5.558, 5.561, 5.572, 5.58, 5.583, 5.59, 5.614, 5.627, 5.63, 5.631, 5.66, 5.662, 5.669, 5.696, 5.697, 5.699, 5.703, 5.718, 5.718, 5.722, 5.725, 5.734, 5.749, 5.762, 5.766, 5.81, 5.839, 5.84, 5.849, 5.85, 5.853, 5.869, 5.884, 5.893, 5.899, 5.924, 5.941, 5.947, 5.965, 5.967, 5.968, 5.976, 5.991, 6.014, 6.026, 6.035, 6.035, 6.047, 6.052, 6.066, 6.072, 6.077, 6.078, 6.078, 6.094, 6.098, 6.103, 6.107, 6.12, 6.12, 6.121, 6.124, 6.124, 6.127, 6.132, 6.132, 6.145, 6.155, 6.155, 6.167, 6.209, 6.215, 6.233, 6.235, 6.258, 6.268, 6.29, 6.295, 6.31, 6.312, 6.327, 6.338, 6.343, 6.353, 6.367, 6.37, 6.387, 6.389, 6.396, 6.409, 6.416, 6.429, 6.445, 6.446, 6.446, 6.454, 6.463, 6.468, 6.483, 6.493, 6.494, 6.494, 6.514, 6.532, 6.544, 6.551, 6.576, 6.576, 6.583, 6.584, 6.596, 6.608, 6.613, 6.616, 6.62, 6.625, 6.625, 6.649, 6.659, 6.692, 6.693, 6.694, 6.7, 6.707, 6.772, 6.792, 6.801, 6.818, 6.838, 6.878, 6.895, 6.899, 6.9, 6.925, 6.936, 6.939, 6.941, 6.957, 6.961, 6.982, 6.983, 6.983, 6.986, 6.992, 7.009, 7.023, 7.038, 7.059, 7.075, 7.076, 7.076, 7.083, 7.086, 7.093, 7.101, 7.101, 7.121, 7.123, 7.126, 7.137, 7.149, 7.192, 7.192, 7.193, 7.199, 7.199, 7.205, 7.214, 7.216, 7.22, 7.222, 7.234, 7.248, 7.249, 7.264, 7.269, 7.282, 7.283, 7.284, 7.306, 7.315, 7.318, 7.32, 7.337, 7.352, 7.356, 7.361, 7.363, 7.384, 7.388, 7.388, 7.391, 7.401, 7.405, 7.408, 7.411, 7.42, 7.426, 7.436, 7.449, 7.45, 7.457, 7.481, 7.495, 7.497, 7.508, 7.509, 7.517, 7.526, 7.533, 7.542, 7.542, 7.543, 7.553, 7.568, 7.576, 7.577, 7.582, 7.606, 7.613, 7.653, 7.683, 7.69, 7.697, 7.702, 7.72, 7.722, 7.723, 7.752, 7.755, 7.755, 7.759, 7.844, 7.846, 7.849, 7.853, 7.872, 7.875, 7.881, 7.881, 7.89, 7.921, 7.938, 7.975, 7.976, 7.985, 7.992, 7.998, 8.007, 8.024, 8.025, 8.046, 8.053, 8.058, 8.086, 8.11, 8.128, 8.136, 8.141, 8.151, 8.156, 8.159, 8.177, 8.181, 8.184, 8.188, 8.19, 8.202, 8.214, 8.216, 8.22, 8.228, 8.244, 8.25, 8.251, 8.258, 8.266, 8.267, 8.267, 8.274, 8.285, 8.291, 8.292, 8.292, 8.312, 8.319, 8.32, 8.331, 8.332, 8.337, 8.34, 8.346, 8.364, 8.372, 8.374, 8.403, 8.408, 8.413, 8.422, 8.427, 8.43, 8.443, 8.444, 8.445, 8.447, 8.535, 8.535, 8.537, 8.542, 8.663, 8.697, 8.71, 8.72, 8.753, 8.758, 8.788, 8.79, 8.797, 8.815, 8.818, 8.824, 8.837, 8.853, 8.86, 8.869, 8.909, 8.934, 8.956, 8.973, 8.98, 8.984, 8.986, 8.996, 9.032, 9.048, 9.058, 9.065, 9.073, 9.083, 9.09, 9.115, 9.14, 9.159, 9.209, 9.221, 9.251, 9.251, 9.269, 9.274, 9.277, 9.281, 9.282, 9.292, 9.292, 9.322, 9.33, 9.345, 9.352, 9.365, 9.371, 9.459, 9.484, 9.513, 9.519, 9.531, 9.551, 9.555, 9.578, 9.59, 9.641, 9.663, 9.749, 9.767, 9.782, 9.786, 9.813, 9.815, 9.862, 9.914, 9.969, 9.99, 10.102, 10.132, 10.181, 10.278, 10.284, 10.333, 10.338, 10.423, 10.45, 10.473, 10.479, 10.534, 10.549, 10.618, 10.633, 10.643, 10.756, 10.81, 10.832, 10.938, 10.956, 11.035, 11.244, 11.244, 11.29, 11.407, 11.5, 11.506, 11.707, 11.778, 11.953, 12.376, 12.906]\n"
     ]
    }
   ],
   "source": [
    "distance_from_margin = c_l_f.decision_function(traindata_X_full)\n",
    "distance_from_margin = list(distance_from_margin)\n",
    "distance_from_margin = [round(i,3) for i in distance_from_margin]\n",
    "distance_from_margin = map(abs, distance_from_margin)\n",
    "\n",
    "print distance_from_margin\n",
    "sorted_distance = sorted(distance_from_margin)\n",
    "print sorted_distance"
   ]
  },
  {
   "cell_type": "code",
   "execution_count": 18,
   "metadata": {},
   "outputs": [],
   "source": [
    "dist_df = pd.DataFrame(data = distance_from_margin , columns=['distance'])"
   ]
  },
  {
   "cell_type": "code",
   "execution_count": 19,
   "metadata": {},
   "outputs": [],
   "source": [
    "traindata_X_full.reset_index(drop=True, inplace=True)\n",
    "traindata_y_full.reset_index(drop=True, inplace=True)\n",
    "dist_df.reset_index(drop=True, inplace=True)"
   ]
  },
  {
   "cell_type": "code",
   "execution_count": 20,
   "metadata": {},
   "outputs": [
    {
     "data": {
      "text/html": [
       "<div>\n",
       "<style scoped>\n",
       "    .dataframe tbody tr th:only-of-type {\n",
       "        vertical-align: middle;\n",
       "    }\n",
       "\n",
       "    .dataframe tbody tr th {\n",
       "        vertical-align: top;\n",
       "    }\n",
       "\n",
       "    .dataframe thead th {\n",
       "        text-align: right;\n",
       "    }\n",
       "</style>\n",
       "<table border=\"1\" class=\"dataframe\">\n",
       "  <thead>\n",
       "    <tr style=\"text-align: right;\">\n",
       "      <th></th>\n",
       "      <th>variance</th>\n",
       "      <th>skewness</th>\n",
       "      <th>curtosis</th>\n",
       "      <th>entropy</th>\n",
       "      <th>class</th>\n",
       "      <th>distance</th>\n",
       "    </tr>\n",
       "  </thead>\n",
       "  <tbody>\n",
       "    <tr>\n",
       "      <th>0</th>\n",
       "      <td>3.62160</td>\n",
       "      <td>8.6661</td>\n",
       "      <td>-2.80730</td>\n",
       "      <td>-0.44699</td>\n",
       "      <td>0</td>\n",
       "      <td>9.292</td>\n",
       "    </tr>\n",
       "    <tr>\n",
       "      <th>1</th>\n",
       "      <td>3.45660</td>\n",
       "      <td>9.5228</td>\n",
       "      <td>-4.01120</td>\n",
       "      <td>-3.59440</td>\n",
       "      <td>0</td>\n",
       "      <td>7.844</td>\n",
       "    </tr>\n",
       "    <tr>\n",
       "      <th>2</th>\n",
       "      <td>0.32924</td>\n",
       "      <td>-4.4552</td>\n",
       "      <td>4.57180</td>\n",
       "      <td>-0.98880</td>\n",
       "      <td>0</td>\n",
       "      <td>0.151</td>\n",
       "    </tr>\n",
       "    <tr>\n",
       "      <th>3</th>\n",
       "      <td>4.36840</td>\n",
       "      <td>9.6718</td>\n",
       "      <td>-3.96060</td>\n",
       "      <td>-3.16250</td>\n",
       "      <td>0</td>\n",
       "      <td>9.641</td>\n",
       "    </tr>\n",
       "    <tr>\n",
       "      <th>4</th>\n",
       "      <td>3.59120</td>\n",
       "      <td>3.0129</td>\n",
       "      <td>0.72888</td>\n",
       "      <td>0.56421</td>\n",
       "      <td>0</td>\n",
       "      <td>8.177</td>\n",
       "    </tr>\n",
       "  </tbody>\n",
       "</table>\n",
       "</div>"
      ],
      "text/plain": [
       "   variance  skewness  curtosis  entropy  class  distance\n",
       "0   3.62160    8.6661  -2.80730 -0.44699      0     9.292\n",
       "1   3.45660    9.5228  -4.01120 -3.59440      0     7.844\n",
       "2   0.32924   -4.4552   4.57180 -0.98880      0     0.151\n",
       "3   4.36840    9.6718  -3.96060 -3.16250      0     9.641\n",
       "4   3.59120    3.0129   0.72888  0.56421      0     8.177"
      ]
     },
     "metadata": {},
     "output_type": "display_data"
    }
   ],
   "source": [
    "traindata_X_new = pd.concat([traindata_X_full,traindata_y_full,dist_df], axis=1,)\n",
    "display(traindata_X_new.head())"
   ]
  },
  {
   "cell_type": "code",
   "execution_count": 21,
   "metadata": {},
   "outputs": [
    {
     "data": {
      "text/html": [
       "<div>\n",
       "<style scoped>\n",
       "    .dataframe tbody tr th:only-of-type {\n",
       "        vertical-align: middle;\n",
       "    }\n",
       "\n",
       "    .dataframe tbody tr th {\n",
       "        vertical-align: top;\n",
       "    }\n",
       "\n",
       "    .dataframe thead th {\n",
       "        text-align: right;\n",
       "    }\n",
       "</style>\n",
       "<table border=\"1\" class=\"dataframe\">\n",
       "  <thead>\n",
       "    <tr style=\"text-align: right;\">\n",
       "      <th></th>\n",
       "      <th>variance</th>\n",
       "      <th>skewness</th>\n",
       "      <th>curtosis</th>\n",
       "      <th>entropy</th>\n",
       "      <th>class</th>\n",
       "      <th>distance</th>\n",
       "    </tr>\n",
       "  </thead>\n",
       "  <tbody>\n",
       "    <tr>\n",
       "      <th>620</th>\n",
       "      <td>-3.37930</td>\n",
       "      <td>-13.7731</td>\n",
       "      <td>17.9274</td>\n",
       "      <td>-2.0323</td>\n",
       "      <td>1</td>\n",
       "      <td>0.050</td>\n",
       "    </tr>\n",
       "    <tr>\n",
       "      <th>606</th>\n",
       "      <td>1.74250</td>\n",
       "      <td>3.6833</td>\n",
       "      <td>-4.0129</td>\n",
       "      <td>-1.7207</td>\n",
       "      <td>1</td>\n",
       "      <td>0.096</td>\n",
       "    </tr>\n",
       "    <tr>\n",
       "      <th>2</th>\n",
       "      <td>0.32924</td>\n",
       "      <td>-4.4552</td>\n",
       "      <td>4.5718</td>\n",
       "      <td>-0.9888</td>\n",
       "      <td>0</td>\n",
       "      <td>0.151</td>\n",
       "    </tr>\n",
       "    <tr>\n",
       "      <th>714</th>\n",
       "      <td>2.01770</td>\n",
       "      <td>1.7982</td>\n",
       "      <td>-2.9581</td>\n",
       "      <td>0.2099</td>\n",
       "      <td>1</td>\n",
       "      <td>0.172</td>\n",
       "    </tr>\n",
       "    <tr>\n",
       "      <th>719</th>\n",
       "      <td>2.19430</td>\n",
       "      <td>4.5503</td>\n",
       "      <td>-4.9760</td>\n",
       "      <td>-2.7254</td>\n",
       "      <td>1</td>\n",
       "      <td>0.177</td>\n",
       "    </tr>\n",
       "  </tbody>\n",
       "</table>\n",
       "</div>"
      ],
      "text/plain": [
       "     variance  skewness  curtosis  entropy  class  distance\n",
       "620  -3.37930  -13.7731   17.9274  -2.0323      1     0.050\n",
       "606   1.74250    3.6833   -4.0129  -1.7207      1     0.096\n",
       "2     0.32924   -4.4552    4.5718  -0.9888      0     0.151\n",
       "714   2.01770    1.7982   -2.9581   0.2099      1     0.172\n",
       "719   2.19430    4.5503   -4.9760  -2.7254      1     0.177"
      ]
     },
     "metadata": {},
     "output_type": "display_data"
    },
    {
     "name": "stdout",
     "output_type": "stream",
     "text": [
      "(900, 6)\n"
     ]
    }
   ],
   "source": [
    "traindata_X_dist = traindata_X_new.sort_values(['distance'], ascending=[1])\n",
    "display (traindata_X_dist.head())\n",
    "print traindata_X_dist.shape"
   ]
  },
  {
   "cell_type": "code",
   "execution_count": 22,
   "metadata": {},
   "outputs": [],
   "source": [
    "traindata_X_sorted = traindata_X_dist.drop('distance', axis=1)"
   ]
  },
  {
   "cell_type": "code",
   "execution_count": 23,
   "metadata": {},
   "outputs": [
    {
     "name": "stdout",
     "output_type": "stream",
     "text": [
      "10 890\n"
     ]
    }
   ],
   "source": [
    "train_10 = traindata_X_sorted.sample(n=10,replace=False)\n",
    "train_90 = traindata_X_sorted[~traindata_X_sorted.index.isin(train_10.index)]\n",
    "print len(train_10),len(train_90)"
   ]
  },
  {
   "cell_type": "code",
   "execution_count": 24,
   "metadata": {},
   "outputs": [
    {
     "name": "stdout",
     "output_type": "stream",
     "text": [
      "[0.86, 0.919, 0.922, 0.994, 0.985]\n",
      "[0.985, 0.985, 0.985, 0.985, 0.985]\n",
      "[0.985, 0.985, 0.985, 0.987, 0.985]\n",
      "[0.987, 0.985, 0.985, 0.985, 0.987]\n",
      "[0.985, 0.987, 0.987, 0.985, 0.987]\n"
     ]
    }
   ],
   "source": [
    "new_test_data=pd.DataFrame()\n",
    "active_errortotal_test = []\n",
    "extracted_data = train_10\n",
    "\n",
    "for i in range(0,5):\n",
    "    \n",
    "    active_test_error = []\n",
    "    active_penalty_ = []\n",
    "    \n",
    "    for j in range(1,6):\n",
    "        \n",
    "        new_test_data =pd.concat([new_test_data, extracted_data], axis=0)\n",
    "        \n",
    "        traindata_X = new_test_data.drop('class', axis=1)\n",
    "        traindata1_y = new_test_data['class']\n",
    "        traindata_y = traindata1_y.to_frame();\n",
    "    \n",
    "        testdata_x = test_data.drop('class', axis=1)\n",
    "        testdata1_y = test_data['class']\n",
    "        testdata_y = testdata1_y.to_frame();\n",
    "        \n",
    "        rangeofC = np.logspace(-2,10,13)\n",
    "        gridparameters = dict(C=rangeofC)\n",
    "        svc = svm.LinearSVC(penalty='l1',dual=False)\n",
    "        cv=KFold(10)\n",
    "        c_l_f = GridSearchCV(svc,param_grid=gridparameters,cv=cv)\n",
    "        c_l_f.fit(traindata_X, traindata_y)\n",
    "        prediction_y = c_l_f.predict(testdata_x)\n",
    "        score = round(c_l_f.score(testdata_x, testdata_y),3)    \n",
    "        active_penalty_.append(c_l_f.best_params_)\n",
    "        active_test_error.append(score)\n",
    "        \n",
    "        extracted_data = train_90.iloc[:10,:]\n",
    "        train_90=train_90.drop(train_90.index[:10])\n",
    "\n",
    "    active_errortotal_test.append(active_test_error)\n",
    "    print active_test_error"
   ]
  },
  {
   "cell_type": "code",
   "execution_count": 25,
   "metadata": {},
   "outputs": [
    {
     "name": "stdout",
     "output_type": "stream",
     "text": [
      "[[0.86, 0.919, 0.922, 0.994, 0.985], [0.985, 0.985, 0.985, 0.985, 0.985], [0.985, 0.985, 0.985, 0.987, 0.985], [0.987, 0.985, 0.985, 0.985, 0.987], [0.985, 0.987, 0.987, 0.985, 0.987]]\n",
      "[{'C': 10.0}, {'C': 0.1}, {'C': 0.1}, {'C': 10.0}, {'C': 0.1}]\n"
     ]
    }
   ],
   "source": [
    "print active_errortotal_test\n",
    "print active_penalty_ "
   ]
  },
  {
   "cell_type": "code",
   "execution_count": 26,
   "metadata": {},
   "outputs": [
    {
     "data": {
      "text/html": [
       "<div>\n",
       "<style scoped>\n",
       "    .dataframe tbody tr th:only-of-type {\n",
       "        vertical-align: middle;\n",
       "    }\n",
       "\n",
       "    .dataframe tbody tr th {\n",
       "        vertical-align: top;\n",
       "    }\n",
       "\n",
       "    .dataframe thead th {\n",
       "        text-align: right;\n",
       "    }\n",
       "</style>\n",
       "<table border=\"1\" class=\"dataframe\">\n",
       "  <thead>\n",
       "    <tr style=\"text-align: right;\">\n",
       "      <th></th>\n",
       "      <th>0</th>\n",
       "      <th>1</th>\n",
       "      <th>2</th>\n",
       "      <th>3</th>\n",
       "      <th>4</th>\n",
       "    </tr>\n",
       "  </thead>\n",
       "  <tbody>\n",
       "    <tr>\n",
       "      <th>0</th>\n",
       "      <td>0.860</td>\n",
       "      <td>0.919</td>\n",
       "      <td>0.922</td>\n",
       "      <td>0.994</td>\n",
       "      <td>0.985</td>\n",
       "    </tr>\n",
       "    <tr>\n",
       "      <th>1</th>\n",
       "      <td>0.985</td>\n",
       "      <td>0.985</td>\n",
       "      <td>0.985</td>\n",
       "      <td>0.985</td>\n",
       "      <td>0.985</td>\n",
       "    </tr>\n",
       "    <tr>\n",
       "      <th>2</th>\n",
       "      <td>0.985</td>\n",
       "      <td>0.985</td>\n",
       "      <td>0.985</td>\n",
       "      <td>0.987</td>\n",
       "      <td>0.985</td>\n",
       "    </tr>\n",
       "    <tr>\n",
       "      <th>3</th>\n",
       "      <td>0.987</td>\n",
       "      <td>0.985</td>\n",
       "      <td>0.985</td>\n",
       "      <td>0.985</td>\n",
       "      <td>0.987</td>\n",
       "    </tr>\n",
       "    <tr>\n",
       "      <th>4</th>\n",
       "      <td>0.985</td>\n",
       "      <td>0.987</td>\n",
       "      <td>0.987</td>\n",
       "      <td>0.985</td>\n",
       "      <td>0.987</td>\n",
       "    </tr>\n",
       "  </tbody>\n",
       "</table>\n",
       "</div>"
      ],
      "text/plain": [
       "       0      1      2      3      4\n",
       "0  0.860  0.919  0.922  0.994  0.985\n",
       "1  0.985  0.985  0.985  0.985  0.985\n",
       "2  0.985  0.985  0.985  0.987  0.985\n",
       "3  0.987  0.985  0.985  0.985  0.987\n",
       "4  0.985  0.987  0.987  0.985  0.987"
      ]
     },
     "metadata": {},
     "output_type": "display_data"
    }
   ],
   "source": [
    "active_errortotal_test=pd.DataFrame(active_errortotal_test)\n",
    "display(active_errortotal_test)\n",
    "active_errortotal_test=active_errortotal_test.mean()\n",
    "active_errortotal_test= active_errortotal_test.values.tolist()\n"
   ]
  },
  {
   "cell_type": "code",
   "execution_count": 27,
   "metadata": {},
   "outputs": [],
   "source": [
    "length=len(active_errortotal_test)\n",
    "training_instances = [i*10 for i in range (1,length+1)]"
   ]
  },
  {
   "cell_type": "code",
   "execution_count": null,
   "metadata": {},
   "outputs": [],
   "source": [
    "# the procedure is repeated 5 times (as 50 times was taking a lot of time)"
   ]
  },
  {
   "cell_type": "code",
   "execution_count": 28,
   "metadata": {},
   "outputs": [
    {
     "data": {
      "image/png": "[encoded data removed]",
      "text/plain": [
       "<matplotlib.figure.Figure at 0x195ac438>"
      ]
     },
     "metadata": {},
     "output_type": "display_data"
    }
   ],
   "source": [
    "\n",
    "plt.figure(figsize=(15,12))\n",
    "plt.xlabel('Training instances', fontsize=22)\n",
    "plt.ylabel('Average Test Error', fontsize=22)\n",
    "plt.plot(training_instances, active_errortotal_test,label='Active_Learning')\n",
    "plt.plot(training_instances, passive_test_totalerror,label='Passive_Learning')\n",
    "plt.legend(loc='best')\n",
    "plt.show()"
   ]
  },
  {
   "cell_type": "code",
   "execution_count": null,
   "metadata": {},
   "outputs": [],
   "source": []
  },
  {
   "cell_type": "code",
   "execution_count": null,
   "metadata": {},
   "outputs": [],
   "source": []
  },
  {
   "cell_type": "code",
   "execution_count": null,
   "metadata": {},
   "outputs": [],
   "source": []
  }
 ],
 "metadata": {
  "kernelspec": {
   "display_name": "Python 2",
   "language": "python",
   "name": "python2"
  },
  "language_info": {
   "codemirror_mode": {
    "name": "ipython",
    "version": 2
   },
   "file_extension": ".py",
   "mimetype": "text/x-python",
   "name": "python",
   "nbconvert_exporter": "python",
   "pygments_lexer": "ipython2",
   "version": "2.7.14"
  }
 },
 "nbformat": 4,
 "nbformat_minor": 2
}
