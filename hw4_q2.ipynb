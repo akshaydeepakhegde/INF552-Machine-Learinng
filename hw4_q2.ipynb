{
 "cells": [
  {
   "cell_type": "code",
   "execution_count": 91,
   "metadata": {},
   "outputs": [],
   "source": [
    "import pandas as pd\n",
    "import numpy as np\n",
    "import matplotlib.pylab as plt\n",
    "import scipy  \n",
    "import scikits.bootstrap as bootstrap\n",
    "import statsmodels.stats.api as sms\n",
    "from sklearn import preprocessing\n",
    "from sklearn import metrics\n",
    "import pandas as pd\n",
    "from ggplot import *\n",
    "from scipy import stats\n",
    "import statsmodels.api as sm\n",
    "from sklearn import model_selection\n",
    "from sklearn.model_selection import cross_val_score\n",
    "from sklearn.utils import shuffle\n",
    "import numpy as np\n",
    "from sklearn.preprocessing import Imputer\n",
    "from scipy.stats import variation\n",
    "from sklearn.metrics import mean_squared_error, r2_score\n",
    "from sklearn.linear_model import Ridge\n",
    "from sklearn import linear_model\n",
    "from sklearn.preprocessing import scale\n",
    "from sklearn import cross_validation\n",
    "from sklearn.preprocessing import Imputer\n",
    "from sklearn.datasets import make_classification\n",
    "import seaborn as sns\n",
    "from sklearn.metrics import hamming_loss,accuracy_score\n",
    "from sklearn import svm\n",
    "from sklearn.svm import SVC\n",
    "from sklearn.learning_curve import learning_curve\n",
    "from sklearn.model_selection import cross_val_score\n",
    "from sklearn.model_selection import KFold\n",
    "from sklearn.model_selection import GridSearchCV\n",
    "from sklearn.metrics import average_precision_score\n",
    "from sklearn.metrics import precision_recall_curve"
   ]
  },
  {
   "cell_type": "code",
   "execution_count": 92,
   "metadata": {},
   "outputs": [
    {
     "data": {
      "text/html": [
       "<div>\n",
       "<style scoped>\n",
       "    .dataframe tbody tr th:only-of-type {\n",
       "        vertical-align: middle;\n",
       "    }\n",
       "\n",
       "    .dataframe tbody tr th {\n",
       "        vertical-align: top;\n",
       "    }\n",
       "\n",
       "    .dataframe thead th {\n",
       "        text-align: right;\n",
       "    }\n",
       "</style>\n",
       "<table border=\"1\" class=\"dataframe\">\n",
       "  <thead>\n",
       "    <tr style=\"text-align: right;\">\n",
       "      <th></th>\n",
       "      <th>MFCCs_ 1</th>\n",
       "      <th>MFCCs_ 2</th>\n",
       "      <th>MFCCs_ 3</th>\n",
       "      <th>MFCCs_ 4</th>\n",
       "      <th>MFCCs_ 5</th>\n",
       "      <th>MFCCs_ 6</th>\n",
       "      <th>MFCCs_ 7</th>\n",
       "      <th>MFCCs_ 8</th>\n",
       "      <th>MFCCs_ 9</th>\n",
       "      <th>MFCCs_10</th>\n",
       "      <th>...</th>\n",
       "      <th>MFCCs_17</th>\n",
       "      <th>MFCCs_18</th>\n",
       "      <th>MFCCs_19</th>\n",
       "      <th>MFCCs_20</th>\n",
       "      <th>MFCCs_21</th>\n",
       "      <th>MFCCs_22</th>\n",
       "      <th>Family</th>\n",
       "      <th>Genus</th>\n",
       "      <th>Species</th>\n",
       "      <th>RecordID</th>\n",
       "    </tr>\n",
       "  </thead>\n",
       "  <tbody>\n",
       "    <tr>\n",
       "      <th>9</th>\n",
       "      <td>1.0</td>\n",
       "      <td>0.120565</td>\n",
       "      <td>-0.107235</td>\n",
       "      <td>0.316555</td>\n",
       "      <td>0.364437</td>\n",
       "      <td>0.307757</td>\n",
       "      <td>0.025992</td>\n",
       "      <td>-0.294179</td>\n",
       "      <td>-0.223236</td>\n",
       "      <td>0.268435</td>\n",
       "      <td>...</td>\n",
       "      <td>-0.051073</td>\n",
       "      <td>-0.052568</td>\n",
       "      <td>-0.111338</td>\n",
       "      <td>-0.040014</td>\n",
       "      <td>0.090204</td>\n",
       "      <td>0.088025</td>\n",
       "      <td>Leptodactylidae</td>\n",
       "      <td>Adenomera</td>\n",
       "      <td>AdenomeraAndre</td>\n",
       "      <td>1</td>\n",
       "    </tr>\n",
       "    <tr>\n",
       "      <th>10</th>\n",
       "      <td>1.0</td>\n",
       "      <td>0.148539</td>\n",
       "      <td>-0.096910</td>\n",
       "      <td>0.257523</td>\n",
       "      <td>0.260881</td>\n",
       "      <td>0.312603</td>\n",
       "      <td>0.134134</td>\n",
       "      <td>-0.216262</td>\n",
       "      <td>-0.189334</td>\n",
       "      <td>0.261960</td>\n",
       "      <td>...</td>\n",
       "      <td>-0.034082</td>\n",
       "      <td>-0.120716</td>\n",
       "      <td>-0.100800</td>\n",
       "      <td>-0.001992</td>\n",
       "      <td>0.111462</td>\n",
       "      <td>0.103637</td>\n",
       "      <td>Leptodactylidae</td>\n",
       "      <td>Adenomera</td>\n",
       "      <td>AdenomeraAndre</td>\n",
       "      <td>1</td>\n",
       "    </tr>\n",
       "    <tr>\n",
       "      <th>12</th>\n",
       "      <td>1.0</td>\n",
       "      <td>0.106109</td>\n",
       "      <td>-0.025790</td>\n",
       "      <td>0.358875</td>\n",
       "      <td>0.297543</td>\n",
       "      <td>0.244335</td>\n",
       "      <td>0.016446</td>\n",
       "      <td>-0.288733</td>\n",
       "      <td>-0.146731</td>\n",
       "      <td>0.314207</td>\n",
       "      <td>...</td>\n",
       "      <td>-0.062939</td>\n",
       "      <td>-0.071182</td>\n",
       "      <td>-0.066827</td>\n",
       "      <td>-0.028048</td>\n",
       "      <td>0.058353</td>\n",
       "      <td>0.064368</td>\n",
       "      <td>Leptodactylidae</td>\n",
       "      <td>Adenomera</td>\n",
       "      <td>AdenomeraAndre</td>\n",
       "      <td>1</td>\n",
       "    </tr>\n",
       "    <tr>\n",
       "      <th>16</th>\n",
       "      <td>1.0</td>\n",
       "      <td>0.263944</td>\n",
       "      <td>0.090358</td>\n",
       "      <td>0.368888</td>\n",
       "      <td>0.356645</td>\n",
       "      <td>0.252806</td>\n",
       "      <td>0.063921</td>\n",
       "      <td>-0.155007</td>\n",
       "      <td>-0.137743</td>\n",
       "      <td>0.200262</td>\n",
       "      <td>...</td>\n",
       "      <td>-0.074168</td>\n",
       "      <td>-0.083995</td>\n",
       "      <td>-0.104413</td>\n",
       "      <td>-0.071431</td>\n",
       "      <td>0.028842</td>\n",
       "      <td>0.019180</td>\n",
       "      <td>Leptodactylidae</td>\n",
       "      <td>Adenomera</td>\n",
       "      <td>AdenomeraAndre</td>\n",
       "      <td>1</td>\n",
       "    </tr>\n",
       "    <tr>\n",
       "      <th>18</th>\n",
       "      <td>1.0</td>\n",
       "      <td>0.179298</td>\n",
       "      <td>-0.038306</td>\n",
       "      <td>0.319636</td>\n",
       "      <td>0.383029</td>\n",
       "      <td>0.275313</td>\n",
       "      <td>0.099083</td>\n",
       "      <td>-0.207998</td>\n",
       "      <td>-0.219215</td>\n",
       "      <td>0.182845</td>\n",
       "      <td>...</td>\n",
       "      <td>-0.110969</td>\n",
       "      <td>-0.105833</td>\n",
       "      <td>-0.115237</td>\n",
       "      <td>-0.012819</td>\n",
       "      <td>0.083194</td>\n",
       "      <td>0.052101</td>\n",
       "      <td>Leptodactylidae</td>\n",
       "      <td>Adenomera</td>\n",
       "      <td>AdenomeraAndre</td>\n",
       "      <td>1</td>\n",
       "    </tr>\n",
       "  </tbody>\n",
       "</table>\n",
       "<p>5 rows × 26 columns</p>\n",
       "</div>"
      ],
      "text/plain": [
       "    MFCCs_ 1  MFCCs_ 2  MFCCs_ 3  MFCCs_ 4  MFCCs_ 5  MFCCs_ 6  MFCCs_ 7  \\\n",
       "9        1.0  0.120565 -0.107235  0.316555  0.364437  0.307757  0.025992   \n",
       "10       1.0  0.148539 -0.096910  0.257523  0.260881  0.312603  0.134134   \n",
       "12       1.0  0.106109 -0.025790  0.358875  0.297543  0.244335  0.016446   \n",
       "16       1.0  0.263944  0.090358  0.368888  0.356645  0.252806  0.063921   \n",
       "18       1.0  0.179298 -0.038306  0.319636  0.383029  0.275313  0.099083   \n",
       "\n",
       "    MFCCs_ 8  MFCCs_ 9  MFCCs_10    ...     MFCCs_17  MFCCs_18  MFCCs_19  \\\n",
       "9  -0.294179 -0.223236  0.268435    ...    -0.051073 -0.052568 -0.111338   \n",
       "10 -0.216262 -0.189334  0.261960    ...    -0.034082 -0.120716 -0.100800   \n",
       "12 -0.288733 -0.146731  0.314207    ...    -0.062939 -0.071182 -0.066827   \n",
       "16 -0.155007 -0.137743  0.200262    ...    -0.074168 -0.083995 -0.104413   \n",
       "18 -0.207998 -0.219215  0.182845    ...    -0.110969 -0.105833 -0.115237   \n",
       "\n",
       "    MFCCs_20  MFCCs_21  MFCCs_22           Family      Genus         Species  \\\n",
       "9  -0.040014  0.090204  0.088025  Leptodactylidae  Adenomera  AdenomeraAndre   \n",
       "10 -0.001992  0.111462  0.103637  Leptodactylidae  Adenomera  AdenomeraAndre   \n",
       "12 -0.028048  0.058353  0.064368  Leptodactylidae  Adenomera  AdenomeraAndre   \n",
       "16 -0.071431  0.028842  0.019180  Leptodactylidae  Adenomera  AdenomeraAndre   \n",
       "18 -0.012819  0.083194  0.052101  Leptodactylidae  Adenomera  AdenomeraAndre   \n",
       "\n",
       "    RecordID  \n",
       "9          1  \n",
       "10         1  \n",
       "12         1  \n",
       "16         1  \n",
       "18         1  \n",
       "\n",
       "[5 rows x 26 columns]"
      ]
     },
     "metadata": {},
     "output_type": "display_data"
    }
   ],
   "source": [
    "dataset_anuran = pd.read_csv('C:/Users/aksha/Downloads/Anuran Calls (MFCCs)/Frogs_MFCCs.csv')\n",
    "train_data_anuran = dataset_anuran.sample(frac=0.7, replace=False)\n",
    "test_data_anuran = dataset_anuran[~dataset_anuran.index.isin(train_data_anuran.index)]\n",
    "display (test_data_anuran.head())"
   ]
  },
  {
   "cell_type": "code",
   "execution_count": 93,
   "metadata": {},
   "outputs": [
    {
     "data": {
      "text/html": [
       "<div>\n",
       "<style scoped>\n",
       "    .dataframe tbody tr th:only-of-type {\n",
       "        vertical-align: middle;\n",
       "    }\n",
       "\n",
       "    .dataframe tbody tr th {\n",
       "        vertical-align: top;\n",
       "    }\n",
       "\n",
       "    .dataframe thead th {\n",
       "        text-align: right;\n",
       "    }\n",
       "</style>\n",
       "<table border=\"1\" class=\"dataframe\">\n",
       "  <thead>\n",
       "    <tr style=\"text-align: right;\">\n",
       "      <th></th>\n",
       "      <th>MFCCs_ 1</th>\n",
       "      <th>MFCCs_ 2</th>\n",
       "      <th>MFCCs_ 3</th>\n",
       "      <th>MFCCs_ 4</th>\n",
       "      <th>MFCCs_ 5</th>\n",
       "      <th>MFCCs_ 6</th>\n",
       "      <th>MFCCs_ 7</th>\n",
       "      <th>MFCCs_ 8</th>\n",
       "      <th>MFCCs_ 9</th>\n",
       "      <th>MFCCs_10</th>\n",
       "      <th>...</th>\n",
       "      <th>MFCCs_17</th>\n",
       "      <th>MFCCs_18</th>\n",
       "      <th>MFCCs_19</th>\n",
       "      <th>MFCCs_20</th>\n",
       "      <th>MFCCs_21</th>\n",
       "      <th>MFCCs_22</th>\n",
       "      <th>Family</th>\n",
       "      <th>Genus</th>\n",
       "      <th>Species</th>\n",
       "      <th>RecordID</th>\n",
       "    </tr>\n",
       "  </thead>\n",
       "  <tbody>\n",
       "    <tr>\n",
       "      <th>5984</th>\n",
       "      <td>1.0</td>\n",
       "      <td>0.541148</td>\n",
       "      <td>0.449424</td>\n",
       "      <td>0.218257</td>\n",
       "      <td>0.048359</td>\n",
       "      <td>0.175645</td>\n",
       "      <td>-0.000227</td>\n",
       "      <td>-0.021627</td>\n",
       "      <td>0.119599</td>\n",
       "      <td>0.028703</td>\n",
       "      <td>...</td>\n",
       "      <td>-0.011477</td>\n",
       "      <td>0.012418</td>\n",
       "      <td>0.013262</td>\n",
       "      <td>-0.033738</td>\n",
       "      <td>0.031564</td>\n",
       "      <td>0.036040</td>\n",
       "      <td>Hylidae</td>\n",
       "      <td>Hypsiboas</td>\n",
       "      <td>HypsiboasCordobae</td>\n",
       "      <td>41</td>\n",
       "    </tr>\n",
       "    <tr>\n",
       "      <th>2496</th>\n",
       "      <td>1.0</td>\n",
       "      <td>0.386020</td>\n",
       "      <td>0.359853</td>\n",
       "      <td>0.653932</td>\n",
       "      <td>0.179401</td>\n",
       "      <td>0.018673</td>\n",
       "      <td>-0.061833</td>\n",
       "      <td>0.037935</td>\n",
       "      <td>0.290579</td>\n",
       "      <td>0.046514</td>\n",
       "      <td>...</td>\n",
       "      <td>0.198804</td>\n",
       "      <td>0.004079</td>\n",
       "      <td>-0.094299</td>\n",
       "      <td>-0.120060</td>\n",
       "      <td>0.034718</td>\n",
       "      <td>0.147983</td>\n",
       "      <td>Leptodactylidae</td>\n",
       "      <td>Adenomera</td>\n",
       "      <td>AdenomeraHylaedactylus</td>\n",
       "      <td>19</td>\n",
       "    </tr>\n",
       "    <tr>\n",
       "      <th>6947</th>\n",
       "      <td>1.0</td>\n",
       "      <td>0.411501</td>\n",
       "      <td>0.602871</td>\n",
       "      <td>0.282167</td>\n",
       "      <td>-0.142231</td>\n",
       "      <td>0.126116</td>\n",
       "      <td>0.213238</td>\n",
       "      <td>-0.039224</td>\n",
       "      <td>-0.049617</td>\n",
       "      <td>0.121163</td>\n",
       "      <td>...</td>\n",
       "      <td>-0.023041</td>\n",
       "      <td>0.056738</td>\n",
       "      <td>0.005559</td>\n",
       "      <td>-0.049749</td>\n",
       "      <td>0.024086</td>\n",
       "      <td>0.024109</td>\n",
       "      <td>Hylidae</td>\n",
       "      <td>Osteocephalus</td>\n",
       "      <td>OsteocephalusOophagus</td>\n",
       "      <td>50</td>\n",
       "    </tr>\n",
       "    <tr>\n",
       "      <th>3609</th>\n",
       "      <td>1.0</td>\n",
       "      <td>0.586223</td>\n",
       "      <td>0.355505</td>\n",
       "      <td>0.497408</td>\n",
       "      <td>0.091125</td>\n",
       "      <td>-0.053944</td>\n",
       "      <td>-0.091307</td>\n",
       "      <td>0.057818</td>\n",
       "      <td>0.299402</td>\n",
       "      <td>0.124070</td>\n",
       "      <td>...</td>\n",
       "      <td>0.180592</td>\n",
       "      <td>0.075063</td>\n",
       "      <td>0.046933</td>\n",
       "      <td>-0.079310</td>\n",
       "      <td>-0.027608</td>\n",
       "      <td>0.186274</td>\n",
       "      <td>Leptodactylidae</td>\n",
       "      <td>Adenomera</td>\n",
       "      <td>AdenomeraHylaedactylus</td>\n",
       "      <td>22</td>\n",
       "    </tr>\n",
       "    <tr>\n",
       "      <th>6180</th>\n",
       "      <td>1.0</td>\n",
       "      <td>0.530938</td>\n",
       "      <td>0.433661</td>\n",
       "      <td>0.210237</td>\n",
       "      <td>0.061557</td>\n",
       "      <td>0.153292</td>\n",
       "      <td>0.032762</td>\n",
       "      <td>-0.003418</td>\n",
       "      <td>0.136383</td>\n",
       "      <td>0.041199</td>\n",
       "      <td>...</td>\n",
       "      <td>0.006998</td>\n",
       "      <td>-0.012426</td>\n",
       "      <td>0.032531</td>\n",
       "      <td>-0.014811</td>\n",
       "      <td>-0.012346</td>\n",
       "      <td>0.082908</td>\n",
       "      <td>Hylidae</td>\n",
       "      <td>Hypsiboas</td>\n",
       "      <td>HypsiboasCordobae</td>\n",
       "      <td>42</td>\n",
       "    </tr>\n",
       "  </tbody>\n",
       "</table>\n",
       "<p>5 rows × 26 columns</p>\n",
       "</div>"
      ],
      "text/plain": [
       "      MFCCs_ 1  MFCCs_ 2  MFCCs_ 3  MFCCs_ 4  MFCCs_ 5  MFCCs_ 6  MFCCs_ 7  \\\n",
       "5984       1.0  0.541148  0.449424  0.218257  0.048359  0.175645 -0.000227   \n",
       "2496       1.0  0.386020  0.359853  0.653932  0.179401  0.018673 -0.061833   \n",
       "6947       1.0  0.411501  0.602871  0.282167 -0.142231  0.126116  0.213238   \n",
       "3609       1.0  0.586223  0.355505  0.497408  0.091125 -0.053944 -0.091307   \n",
       "6180       1.0  0.530938  0.433661  0.210237  0.061557  0.153292  0.032762   \n",
       "\n",
       "      MFCCs_ 8  MFCCs_ 9  MFCCs_10    ...     MFCCs_17  MFCCs_18  MFCCs_19  \\\n",
       "5984 -0.021627  0.119599  0.028703    ...    -0.011477  0.012418  0.013262   \n",
       "2496  0.037935  0.290579  0.046514    ...     0.198804  0.004079 -0.094299   \n",
       "6947 -0.039224 -0.049617  0.121163    ...    -0.023041  0.056738  0.005559   \n",
       "3609  0.057818  0.299402  0.124070    ...     0.180592  0.075063  0.046933   \n",
       "6180 -0.003418  0.136383  0.041199    ...     0.006998 -0.012426  0.032531   \n",
       "\n",
       "      MFCCs_20  MFCCs_21  MFCCs_22           Family          Genus  \\\n",
       "5984 -0.033738  0.031564  0.036040          Hylidae      Hypsiboas   \n",
       "2496 -0.120060  0.034718  0.147983  Leptodactylidae      Adenomera   \n",
       "6947 -0.049749  0.024086  0.024109          Hylidae  Osteocephalus   \n",
       "3609 -0.079310 -0.027608  0.186274  Leptodactylidae      Adenomera   \n",
       "6180 -0.014811 -0.012346  0.082908          Hylidae      Hypsiboas   \n",
       "\n",
       "                     Species  RecordID  \n",
       "5984       HypsiboasCordobae        41  \n",
       "2496  AdenomeraHylaedactylus        19  \n",
       "6947   OsteocephalusOophagus        50  \n",
       "3609  AdenomeraHylaedactylus        22  \n",
       "6180       HypsiboasCordobae        42  \n",
       "\n",
       "[5 rows x 26 columns]"
      ]
     },
     "metadata": {},
     "output_type": "display_data"
    }
   ],
   "source": [
    "display (train_data_anuran.head())"
   ]
  },
  {
   "cell_type": "code",
   "execution_count": 94,
   "metadata": {},
   "outputs": [
    {
     "data": {
      "text/html": [
       "<div>\n",
       "<style scoped>\n",
       "    .dataframe tbody tr th:only-of-type {\n",
       "        vertical-align: middle;\n",
       "    }\n",
       "\n",
       "    .dataframe tbody tr th {\n",
       "        vertical-align: top;\n",
       "    }\n",
       "\n",
       "    .dataframe thead th {\n",
       "        text-align: right;\n",
       "    }\n",
       "</style>\n",
       "<table border=\"1\" class=\"dataframe\">\n",
       "  <thead>\n",
       "    <tr style=\"text-align: right;\">\n",
       "      <th></th>\n",
       "      <th>MFCCs_ 1</th>\n",
       "      <th>MFCCs_ 2</th>\n",
       "      <th>MFCCs_ 3</th>\n",
       "      <th>MFCCs_ 4</th>\n",
       "      <th>MFCCs_ 5</th>\n",
       "      <th>MFCCs_ 6</th>\n",
       "      <th>MFCCs_ 7</th>\n",
       "      <th>MFCCs_ 8</th>\n",
       "      <th>MFCCs_ 9</th>\n",
       "      <th>MFCCs_10</th>\n",
       "      <th>...</th>\n",
       "      <th>MFCCs_14</th>\n",
       "      <th>MFCCs_15</th>\n",
       "      <th>MFCCs_16</th>\n",
       "      <th>MFCCs_17</th>\n",
       "      <th>MFCCs_18</th>\n",
       "      <th>MFCCs_19</th>\n",
       "      <th>MFCCs_20</th>\n",
       "      <th>MFCCs_21</th>\n",
       "      <th>MFCCs_22</th>\n",
       "      <th>Family</th>\n",
       "    </tr>\n",
       "  </thead>\n",
       "  <tbody>\n",
       "    <tr>\n",
       "      <th>5984</th>\n",
       "      <td>1.0</td>\n",
       "      <td>0.541148</td>\n",
       "      <td>0.449424</td>\n",
       "      <td>0.218257</td>\n",
       "      <td>0.048359</td>\n",
       "      <td>0.175645</td>\n",
       "      <td>-0.000227</td>\n",
       "      <td>-0.021627</td>\n",
       "      <td>0.119599</td>\n",
       "      <td>0.028703</td>\n",
       "      <td>...</td>\n",
       "      <td>-0.068934</td>\n",
       "      <td>0.015972</td>\n",
       "      <td>0.055258</td>\n",
       "      <td>-0.011477</td>\n",
       "      <td>0.012418</td>\n",
       "      <td>0.013262</td>\n",
       "      <td>-0.033738</td>\n",
       "      <td>0.031564</td>\n",
       "      <td>0.036040</td>\n",
       "      <td>Hylidae</td>\n",
       "    </tr>\n",
       "    <tr>\n",
       "      <th>2496</th>\n",
       "      <td>1.0</td>\n",
       "      <td>0.386020</td>\n",
       "      <td>0.359853</td>\n",
       "      <td>0.653932</td>\n",
       "      <td>0.179401</td>\n",
       "      <td>0.018673</td>\n",
       "      <td>-0.061833</td>\n",
       "      <td>0.037935</td>\n",
       "      <td>0.290579</td>\n",
       "      <td>0.046514</td>\n",
       "      <td>...</td>\n",
       "      <td>-0.067965</td>\n",
       "      <td>-0.262757</td>\n",
       "      <td>0.129347</td>\n",
       "      <td>0.198804</td>\n",
       "      <td>0.004079</td>\n",
       "      <td>-0.094299</td>\n",
       "      <td>-0.120060</td>\n",
       "      <td>0.034718</td>\n",
       "      <td>0.147983</td>\n",
       "      <td>Leptodactylidae</td>\n",
       "    </tr>\n",
       "    <tr>\n",
       "      <th>6947</th>\n",
       "      <td>1.0</td>\n",
       "      <td>0.411501</td>\n",
       "      <td>0.602871</td>\n",
       "      <td>0.282167</td>\n",
       "      <td>-0.142231</td>\n",
       "      <td>0.126116</td>\n",
       "      <td>0.213238</td>\n",
       "      <td>-0.039224</td>\n",
       "      <td>-0.049617</td>\n",
       "      <td>0.121163</td>\n",
       "      <td>...</td>\n",
       "      <td>0.030439</td>\n",
       "      <td>0.005640</td>\n",
       "      <td>-0.017769</td>\n",
       "      <td>-0.023041</td>\n",
       "      <td>0.056738</td>\n",
       "      <td>0.005559</td>\n",
       "      <td>-0.049749</td>\n",
       "      <td>0.024086</td>\n",
       "      <td>0.024109</td>\n",
       "      <td>Hylidae</td>\n",
       "    </tr>\n",
       "    <tr>\n",
       "      <th>3609</th>\n",
       "      <td>1.0</td>\n",
       "      <td>0.586223</td>\n",
       "      <td>0.355505</td>\n",
       "      <td>0.497408</td>\n",
       "      <td>0.091125</td>\n",
       "      <td>-0.053944</td>\n",
       "      <td>-0.091307</td>\n",
       "      <td>0.057818</td>\n",
       "      <td>0.299402</td>\n",
       "      <td>0.124070</td>\n",
       "      <td>...</td>\n",
       "      <td>0.033597</td>\n",
       "      <td>-0.184413</td>\n",
       "      <td>0.039455</td>\n",
       "      <td>0.180592</td>\n",
       "      <td>0.075063</td>\n",
       "      <td>0.046933</td>\n",
       "      <td>-0.079310</td>\n",
       "      <td>-0.027608</td>\n",
       "      <td>0.186274</td>\n",
       "      <td>Leptodactylidae</td>\n",
       "    </tr>\n",
       "    <tr>\n",
       "      <th>6180</th>\n",
       "      <td>1.0</td>\n",
       "      <td>0.530938</td>\n",
       "      <td>0.433661</td>\n",
       "      <td>0.210237</td>\n",
       "      <td>0.061557</td>\n",
       "      <td>0.153292</td>\n",
       "      <td>0.032762</td>\n",
       "      <td>-0.003418</td>\n",
       "      <td>0.136383</td>\n",
       "      <td>0.041199</td>\n",
       "      <td>...</td>\n",
       "      <td>-0.052534</td>\n",
       "      <td>-0.030543</td>\n",
       "      <td>0.050275</td>\n",
       "      <td>0.006998</td>\n",
       "      <td>-0.012426</td>\n",
       "      <td>0.032531</td>\n",
       "      <td>-0.014811</td>\n",
       "      <td>-0.012346</td>\n",
       "      <td>0.082908</td>\n",
       "      <td>Hylidae</td>\n",
       "    </tr>\n",
       "  </tbody>\n",
       "</table>\n",
       "<p>5 rows × 23 columns</p>\n",
       "</div>"
      ],
      "text/plain": [
       "      MFCCs_ 1  MFCCs_ 2  MFCCs_ 3  MFCCs_ 4  MFCCs_ 5  MFCCs_ 6  MFCCs_ 7  \\\n",
       "5984       1.0  0.541148  0.449424  0.218257  0.048359  0.175645 -0.000227   \n",
       "2496       1.0  0.386020  0.359853  0.653932  0.179401  0.018673 -0.061833   \n",
       "6947       1.0  0.411501  0.602871  0.282167 -0.142231  0.126116  0.213238   \n",
       "3609       1.0  0.586223  0.355505  0.497408  0.091125 -0.053944 -0.091307   \n",
       "6180       1.0  0.530938  0.433661  0.210237  0.061557  0.153292  0.032762   \n",
       "\n",
       "      MFCCs_ 8  MFCCs_ 9  MFCCs_10       ...         MFCCs_14  MFCCs_15  \\\n",
       "5984 -0.021627  0.119599  0.028703       ...        -0.068934  0.015972   \n",
       "2496  0.037935  0.290579  0.046514       ...        -0.067965 -0.262757   \n",
       "6947 -0.039224 -0.049617  0.121163       ...         0.030439  0.005640   \n",
       "3609  0.057818  0.299402  0.124070       ...         0.033597 -0.184413   \n",
       "6180 -0.003418  0.136383  0.041199       ...        -0.052534 -0.030543   \n",
       "\n",
       "      MFCCs_16  MFCCs_17  MFCCs_18  MFCCs_19  MFCCs_20  MFCCs_21  MFCCs_22  \\\n",
       "5984  0.055258 -0.011477  0.012418  0.013262 -0.033738  0.031564  0.036040   \n",
       "2496  0.129347  0.198804  0.004079 -0.094299 -0.120060  0.034718  0.147983   \n",
       "6947 -0.017769 -0.023041  0.056738  0.005559 -0.049749  0.024086  0.024109   \n",
       "3609  0.039455  0.180592  0.075063  0.046933 -0.079310 -0.027608  0.186274   \n",
       "6180  0.050275  0.006998 -0.012426  0.032531 -0.014811 -0.012346  0.082908   \n",
       "\n",
       "               Family  \n",
       "5984          Hylidae  \n",
       "2496  Leptodactylidae  \n",
       "6947          Hylidae  \n",
       "3609  Leptodactylidae  \n",
       "6180          Hylidae  \n",
       "\n",
       "[5 rows x 23 columns]"
      ]
     },
     "metadata": {},
     "output_type": "display_data"
    }
   ],
   "source": [
    "train_data_anuran_family = train_data_anuran.iloc[:,:-3]\n",
    "display (train_data_anuran_family.head())"
   ]
  },
  {
   "cell_type": "code",
   "execution_count": 95,
   "metadata": {},
   "outputs": [],
   "source": [
    "train_data_anuran_genus1 = train_data_anuran.iloc[:,:-2]\n",
    "train_data_anuran_genus = train_data_anuran_genus1.drop(['Family'], axis=1)\n"
   ]
  },
  {
   "cell_type": "code",
   "execution_count": 96,
   "metadata": {},
   "outputs": [],
   "source": [
    "train_data_anuran_species1 = train_data_anuran.iloc[:,:-1]\n",
    "train_data_anuran_species = train_data_anuran_species1.drop(['Family','Genus'], axis=1)\n"
   ]
  },
  {
   "cell_type": "code",
   "execution_count": 97,
   "metadata": {},
   "outputs": [],
   "source": [
    "train_family = train_data_anuran_family.iloc[:,:-1]\n",
    "train_genus = train_data_anuran_family.iloc[:,:-1]\n",
    "train_species = train_data_anuran_family.iloc[:,:-1]\n",
    "class1_family = train_data_anuran_family.iloc[:,-1]\n",
    "class1_genus = train_data_anuran_genus.iloc[:,-1]\n",
    "class1_species = train_data_anuran_species.iloc[:,-1]"
   ]
  },
  {
   "cell_type": "code",
   "execution_count": 98,
   "metadata": {},
   "outputs": [
    {
     "name": "stdout",
     "output_type": "stream",
     "text": [
      "(5037, 22)\n"
     ]
    }
   ],
   "source": [
    "class_family = class1_family.to_frame();\n",
    "class_genus = class1_genus.to_frame();\n",
    "class_species = class1_species.to_frame();\n",
    "print train_family.shape"
   ]
  },
  {
   "cell_type": "code",
   "execution_count": 99,
   "metadata": {},
   "outputs": [
    {
     "name": "stdout",
     "output_type": "stream",
     "text": [
      "(5037, 22)\n"
     ]
    }
   ],
   "source": [
    "train_x = train_family\n",
    "print train_x.shape\n",
    "headers1 = list(train_x)"
   ]
  },
  {
   "cell_type": "code",
   "execution_count": 100,
   "metadata": {},
   "outputs": [],
   "source": [
    "train_y_family = class_family\n",
    "train_y_genus =  class_genus\n",
    "train_y_species = class_species"
   ]
  },
  {
   "cell_type": "code",
   "execution_count": 101,
   "metadata": {},
   "outputs": [],
   "source": [
    "test_x = test_data_anuran.iloc[:,:-4]"
   ]
  },
  {
   "cell_type": "code",
   "execution_count": 102,
   "metadata": {},
   "outputs": [],
   "source": [
    "test_y_family = test_data_anuran[['Family']]\n",
    "test_y_genus = test_data_anuran[['Genus']]\n",
    "test_y_species = test_data_anuran[['Species']]"
   ]
  },
  {
   "cell_type": "code",
   "execution_count": 103,
   "metadata": {},
   "outputs": [],
   "source": [
    "# for - 1st label - family"
   ]
  },
  {
   "cell_type": "code",
   "execution_count": 104,
   "metadata": {},
   "outputs": [
    {
     "data": {
      "text/plain": [
       "LinearSVC(C=1.0, class_weight=None, dual=False, fit_intercept=True,\n",
       "     intercept_scaling=1, loss='squared_hinge', max_iter=1000,\n",
       "     multi_class='ovr', penalty='l1', random_state=None, tol=0.0001,\n",
       "     verbose=0)"
      ]
     },
     "execution_count": 104,
     "metadata": {},
     "output_type": "execute_result"
    }
   ],
   "source": [
    "c_l_f = svm.LinearSVC(penalty='l1',dual=False)\n",
    "c_l_f.fit(train_x, train_y_family)"
   ]
  },
  {
   "cell_type": "code",
   "execution_count": 105,
   "metadata": {},
   "outputs": [
    {
     "name": "stdout",
     "output_type": "stream",
     "text": [
      "['Leptodactylidae' 'Leptodactylidae' 'Leptodactylidae' ... 'Hylidae'\n",
      " 'Hylidae' 'Hylidae']\n"
     ]
    }
   ],
   "source": [
    "prediction_y = c_l_f.predict(test_x)\n",
    "print prediction_y"
   ]
  },
  {
   "cell_type": "code",
   "execution_count": 106,
   "metadata": {},
   "outputs": [
    {
     "data": {
      "text/plain": [
       "0.9439295644114921"
      ]
     },
     "execution_count": 106,
     "metadata": {},
     "output_type": "execute_result"
    }
   ],
   "source": [
    "c_l_f.score(test_x, test_y_family)"
   ]
  },
  {
   "cell_type": "code",
   "execution_count": 107,
   "metadata": {},
   "outputs": [
    {
     "name": "stdout",
     "output_type": "stream",
     "text": [
      "Hamming Score is \n",
      "0.056070435588507876\n",
      "Accuracy Score is \n"
     ]
    },
    {
     "data": {
      "text/plain": [
       "0.9439295644114921"
      ]
     },
     "execution_count": 107,
     "metadata": {},
     "output_type": "execute_result"
    }
   ],
   "source": [
    "print (\"Hamming Score is \")\n",
    "hamming_loss1 = hamming_loss(test_y_family, prediction_y)\n",
    "print hamming_loss1\n",
    "\n",
    "print (\"Accuracy Score is \")\n",
    "accuracy_score(test_y_family, prediction_y)"
   ]
  },
  {
   "cell_type": "code",
   "execution_count": 108,
   "metadata": {},
   "outputs": [],
   "source": [
    "# for - 2nd label - genus"
   ]
  },
  {
   "cell_type": "code",
   "execution_count": 109,
   "metadata": {},
   "outputs": [
    {
     "data": {
      "text/plain": [
       "LinearSVC(C=1.0, class_weight=None, dual=False, fit_intercept=True,\n",
       "     intercept_scaling=1, loss='squared_hinge', max_iter=1000,\n",
       "     multi_class='ovr', penalty='l1', random_state=None, tol=0.0001,\n",
       "     verbose=0)"
      ]
     },
     "execution_count": 109,
     "metadata": {},
     "output_type": "execute_result"
    }
   ],
   "source": [
    "c_l_f = svm.LinearSVC(penalty='l1',dual=False)\n",
    "c_l_f.fit(train_x, train_y_genus)"
   ]
  },
  {
   "cell_type": "code",
   "execution_count": 110,
   "metadata": {},
   "outputs": [
    {
     "name": "stdout",
     "output_type": "stream",
     "text": [
      "['Adenomera' 'Adenomera' 'Adenomera' ... 'Scinax' 'Scinax' 'Scinax']\n"
     ]
    }
   ],
   "source": [
    "prediction_y = c_l_f.predict(test_x)\n",
    "print prediction_y"
   ]
  },
  {
   "cell_type": "code",
   "execution_count": 111,
   "metadata": {},
   "outputs": [
    {
     "data": {
      "text/plain": [
       "0.9527340129749768"
      ]
     },
     "execution_count": 111,
     "metadata": {},
     "output_type": "execute_result"
    }
   ],
   "source": [
    "c_l_f.score(test_x, test_y_genus)"
   ]
  },
  {
   "cell_type": "code",
   "execution_count": 112,
   "metadata": {},
   "outputs": [
    {
     "name": "stdout",
     "output_type": "stream",
     "text": [
      "Hamming Score\n",
      "0.047265987025023166\n",
      "Accuracy Score\n"
     ]
    },
    {
     "data": {
      "text/plain": [
       "0.9527340129749768"
      ]
     },
     "execution_count": 112,
     "metadata": {},
     "output_type": "execute_result"
    }
   ],
   "source": [
    "print (\"Hamming Score\")\n",
    "hamming_loss2 = hamming_loss(test_y_genus, prediction_y)\n",
    "print hamming_loss2\n",
    "print (\"Accuracy Score\")\n",
    "accuracy_score(test_y_genus, prediction_y)"
   ]
  },
  {
   "cell_type": "code",
   "execution_count": 113,
   "metadata": {},
   "outputs": [],
   "source": [
    "# for - 3rd label -species"
   ]
  },
  {
   "cell_type": "code",
   "execution_count": 114,
   "metadata": {},
   "outputs": [
    {
     "data": {
      "text/plain": [
       "LinearSVC(C=1.0, class_weight=None, dual=False, fit_intercept=True,\n",
       "     intercept_scaling=1, loss='squared_hinge', max_iter=1000,\n",
       "     multi_class='ovr', penalty='l1', random_state=None, tol=0.0001,\n",
       "     verbose=0)"
      ]
     },
     "execution_count": 114,
     "metadata": {},
     "output_type": "execute_result"
    }
   ],
   "source": [
    "c_l_f = svm.LinearSVC(penalty='l1',dual=False)\n",
    "c_l_f.fit(train_x, train_y_species)"
   ]
  },
  {
   "cell_type": "code",
   "execution_count": 115,
   "metadata": {},
   "outputs": [
    {
     "name": "stdout",
     "output_type": "stream",
     "text": [
      "['AdenomeraAndre' 'AdenomeraAndre' 'AdenomeraAndre' ... 'ScinaxRuber'\n",
      " 'ScinaxRuber' 'ScinaxRuber']\n"
     ]
    }
   ],
   "source": [
    "prediction_y = c_l_f.predict(test_x)\n",
    "print prediction_y"
   ]
  },
  {
   "cell_type": "code",
   "execution_count": 116,
   "metadata": {},
   "outputs": [
    {
     "data": {
      "text/plain": [
       "0.9578313253012049"
      ]
     },
     "execution_count": 116,
     "metadata": {},
     "output_type": "execute_result"
    }
   ],
   "source": [
    "c_l_f.score(test_x, test_y_species)"
   ]
  },
  {
   "cell_type": "code",
   "execution_count": 117,
   "metadata": {},
   "outputs": [
    {
     "name": "stdout",
     "output_type": "stream",
     "text": [
      "Hamming Score\n",
      "0.04216867469879518\n",
      "Accuracy Score\n"
     ]
    },
    {
     "data": {
      "text/plain": [
       "0.9578313253012049"
      ]
     },
     "execution_count": 117,
     "metadata": {},
     "output_type": "execute_result"
    }
   ],
   "source": [
    "print (\"Hamming Score\")\n",
    "hamming_loss3 = hamming_loss(test_y_species, prediction_y)\n",
    "print hamming_loss3\n",
    "print (\"Accuracy Score\")\n",
    "accuracy_score(test_y_species, prediction_y)"
   ]
  },
  {
   "cell_type": "code",
   "execution_count": 118,
   "metadata": {},
   "outputs": [
    {
     "name": "stdout",
     "output_type": "stream",
     "text": [
      "{'C': 10, 'gamma': 1.0}\n"
     ]
    }
   ],
   "source": [
    "parameters = {'C':[1, 10],'gamma': [0.01, 1.0]}\n",
    "svc = svm.SVC()\n",
    "c_l_f = GridSearchCV(svc, parameters,cv=10)\n",
    "anuran_fit = c_l_f.fit(train_x, train_y_family)\n",
    "\n",
    "print(anuran_fit.best_params_)\n"
   ]
  },
  {
   "cell_type": "code",
   "execution_count": 119,
   "metadata": {},
   "outputs": [
    {
     "name": "stdout",
     "output_type": "stream",
     "text": [
      "{'C': 10, 'gamma': 1.0}\n"
     ]
    }
   ],
   "source": [
    "print(c_l_f.best_params_)"
   ]
  },
  {
   "cell_type": "code",
   "execution_count": 120,
   "metadata": {},
   "outputs": [
    {
     "name": "stdout",
     "output_type": "stream",
     "text": [
      "GridSearchCV(cv=10, error_score='raise',\n",
      "       estimator=SVC(C=1.0, cache_size=200, class_weight=None, coef0=0.0,\n",
      "  decision_function_shape='ovr', degree=3, gamma='auto', kernel='rbf',\n",
      "  max_iter=-1, probability=False, random_state=None, shrinking=True,\n",
      "  tol=0.001, verbose=False),\n",
      "       fit_params=None, iid=True, n_jobs=1,\n",
      "       param_grid={'C': [1, 10], 'gamma': [0.01, 1.0]},\n",
      "       pre_dispatch='2*n_jobs', refit=True, return_train_score='warn',\n",
      "       scoring=None, verbose=0)\n",
      "{'C': 10, 'gamma': 1.0}\n"
     ]
    }
   ],
   "source": [
    "parameters = {'C':[1, 10],'gamma': [0.01, 1.0]}\n",
    "svc = svm.SVC(kernel='rbf',decision_function_shape='ovr')\n",
    "c_l_f = GridSearchCV(svc, parameters,cv=10)\n",
    "anuran_fit = c_l_f.fit(train_x,train_y_genus)\n",
    "print anuran_fit\n",
    "print(anuran_fit.best_params_)"
   ]
  },
  {
   "cell_type": "code",
   "execution_count": 121,
   "metadata": {},
   "outputs": [
    {
     "name": "stdout",
     "output_type": "stream",
     "text": [
      "{'C': 10, 'gamma': 1.0}\n"
     ]
    }
   ],
   "source": [
    "print(c_l_f.best_params_)"
   ]
  },
  {
   "cell_type": "code",
   "execution_count": 122,
   "metadata": {},
   "outputs": [
    {
     "name": "stdout",
     "output_type": "stream",
     "text": [
      "{'C': 10, 'gamma': 1.0}\n"
     ]
    }
   ],
   "source": [
    "parameters = {'C':[1, 10],'gamma': [0.01, 1.0]}\n",
    "svc = svm.SVC(kernel='rbf',decision_function_shape='ovr')\n",
    "c_l_f = GridSearchCV(svc, parameters,cv=10)\n",
    "anuran_fit = c_l_f.fit(train_x,train_y_species)\n",
    "print(anuran_fit.best_params_)"
   ]
  },
  {
   "cell_type": "code",
   "execution_count": 123,
   "metadata": {},
   "outputs": [
    {
     "name": "stdout",
     "output_type": "stream",
     "text": [
      "{'C': 10, 'gamma': 1.0}\n"
     ]
    }
   ],
   "source": [
    "print(c_l_f.best_params_)"
   ]
  },
  {
   "cell_type": "code",
   "execution_count": 124,
   "metadata": {},
   "outputs": [],
   "source": [
    "train_x_to_normalize = train_x\n",
    "test_x_to_normalize = test_x\n",
    "headers = list(train_x)\n",
    "train_x_nor = preprocessing.normalize(train_x_to_normalize)\n",
    "train_x_nor = pd.DataFrame(train_x,columns=headers)\n",
    "test_x_nor = preprocessing.normalize(test_x_to_normalize)\n",
    "test_x_nor = pd.DataFrame(test_x,columns=headers)"
   ]
  },
  {
   "cell_type": "code",
   "execution_count": 125,
   "metadata": {},
   "outputs": [
    {
     "name": "stdout",
     "output_type": "stream",
     "text": [
      "{'C': 10, 'gamma': 1.0}\n"
     ]
    }
   ],
   "source": [
    "parameters = {'C':[1, 10],'gamma': [0.01, 1.0]}\n",
    "svc = svm.SVC(kernel='rbf',decision_function_shape='ovr')\n",
    "c_l_f = GridSearchCV(svc, parameters,cv=10)\n",
    "anuran_fit = c_l_f.fit(train_x_nor,train_y_family)\n",
    "print(anuran_fit.best_params_)\n"
   ]
  },
  {
   "cell_type": "code",
   "execution_count": 126,
   "metadata": {},
   "outputs": [
    {
     "name": "stdout",
     "output_type": "stream",
     "text": [
      "{'C': 10, 'gamma': 1.0}\n"
     ]
    }
   ],
   "source": [
    "print(c_l_f.best_params_)"
   ]
  },
  {
   "cell_type": "code",
   "execution_count": 127,
   "metadata": {},
   "outputs": [],
   "source": [
    "# Genus"
   ]
  },
  {
   "cell_type": "code",
   "execution_count": 128,
   "metadata": {},
   "outputs": [
    {
     "name": "stdout",
     "output_type": "stream",
     "text": [
      "{'C': 10, 'gamma': 1.0}\n"
     ]
    }
   ],
   "source": [
    "parameters = {'C':[1,10],'gamma': [0.01,1.0]}\n",
    "svc = svm.SVC(kernel='rbf',decision_function_shape='ovr')\n",
    "c_l_f = GridSearchCV(svc, parameters,cv=10)\n",
    "anuran_fit = c_l_f.fit(train_x_nor,train_y_genus)\n",
    "print(anuran_fit.best_params_)"
   ]
  },
  {
   "cell_type": "code",
   "execution_count": 129,
   "metadata": {},
   "outputs": [
    {
     "name": "stdout",
     "output_type": "stream",
     "text": [
      "{'C': 10, 'gamma': 1.0}\n"
     ]
    }
   ],
   "source": [
    "print(c_l_f.best_params_)"
   ]
  },
  {
   "cell_type": "code",
   "execution_count": 130,
   "metadata": {},
   "outputs": [],
   "source": [
    "# Species"
   ]
  },
  {
   "cell_type": "code",
   "execution_count": 131,
   "metadata": {},
   "outputs": [
    {
     "name": "stdout",
     "output_type": "stream",
     "text": [
      "{'C': 10, 'gamma': 0.5}\n"
     ]
    }
   ],
   "source": [
    "parameters = {'C':[1, 10, 100, 1000],'gamma': [0.01, 0.1, 0.2, 0.5]}\n",
    "svc = svm.SVC(kernel='rbf',decision_function_shape='ovr')\n",
    "c_l_f = GridSearchCV(svc, parameters,cv=10)\n",
    "anuran_fit = c_l_f.fit(train_x_nor,train_y_species)\n",
    "print(anuran_fit.best_params_)"
   ]
  },
  {
   "cell_type": "code",
   "execution_count": 132,
   "metadata": {},
   "outputs": [
    {
     "name": "stdout",
     "output_type": "stream",
     "text": [
      "{'C': 10, 'gamma': 0.5}\n"
     ]
    }
   ],
   "source": [
    "print(c_l_f.best_params_)"
   ]
  },
  {
   "cell_type": "code",
   "execution_count": 133,
   "metadata": {},
   "outputs": [],
   "source": [
    "headers = list(train_x)\n",
    "train_x = preprocessing.normalize(train_x)\n",
    "train_x = pd.DataFrame(train_x,columns=headers)"
   ]
  },
  {
   "cell_type": "code",
   "execution_count": 134,
   "metadata": {},
   "outputs": [],
   "source": [
    "test_x = preprocessing.normalize(test_x)\n",
    "test_x = pd.DataFrame(test_x,columns=headers)"
   ]
  },
  {
   "cell_type": "code",
   "execution_count": 135,
   "metadata": {},
   "outputs": [],
   "source": [
    "# L1 Penalised SVMs for 'Label-Family'"
   ]
  },
  {
   "cell_type": "code",
   "execution_count": 136,
   "metadata": {},
   "outputs": [
    {
     "data": {
      "text/plain": [
       "LinearSVC(C=1.0, class_weight=None, dual=False, fit_intercept=True,\n",
       "     intercept_scaling=1, loss='squared_hinge', max_iter=1000,\n",
       "     multi_class='ovr', penalty='l1', random_state=None, tol=0.0001,\n",
       "     verbose=0)"
      ]
     },
     "execution_count": 136,
     "metadata": {},
     "output_type": "execute_result"
    }
   ],
   "source": [
    "c_l_f = svm.LinearSVC(penalty='l1',dual=False)\n",
    "c_l_f.fit(train_x, train_y_family)"
   ]
  },
  {
   "cell_type": "code",
   "execution_count": 137,
   "metadata": {},
   "outputs": [
    {
     "name": "stdout",
     "output_type": "stream",
     "text": [
      "[-4.14903422 -5.62869691 -1.07660911  0.49513614]\n"
     ]
    }
   ],
   "source": [
    "print(c_l_f.intercept_)"
   ]
  },
  {
   "cell_type": "code",
   "execution_count": 138,
   "metadata": {},
   "outputs": [
    {
     "data": {
      "text/plain": [
       "0.9467099165894347"
      ]
     },
     "execution_count": 138,
     "metadata": {},
     "output_type": "execute_result"
    }
   ],
   "source": [
    "c_l_f.score(test_x, test_y_family)"
   ]
  },
  {
   "cell_type": "code",
   "execution_count": 139,
   "metadata": {},
   "outputs": [],
   "source": [
    "y_score = c_l_f.decision_function(test_x)"
   ]
  },
  {
   "cell_type": "code",
   "execution_count": 140,
   "metadata": {},
   "outputs": [],
   "source": [
    "# L1 Penalised SVMs for 'Label-Genus'"
   ]
  },
  {
   "cell_type": "code",
   "execution_count": 141,
   "metadata": {},
   "outputs": [
    {
     "data": {
      "text/plain": [
       "LinearSVC(C=1.0, class_weight=None, dual=False, fit_intercept=True,\n",
       "     intercept_scaling=1, loss='squared_hinge', max_iter=1000,\n",
       "     multi_class='ovr', penalty='l1', random_state=None, tol=0.0001,\n",
       "     verbose=0)"
      ]
     },
     "execution_count": 141,
     "metadata": {},
     "output_type": "execute_result"
    }
   ],
   "source": [
    "c_l_f = svm.LinearSVC(penalty='l1',dual=False)\n",
    "c_l_f.fit(train_x, train_y_genus)"
   ]
  },
  {
   "cell_type": "code",
   "execution_count": 142,
   "metadata": {},
   "outputs": [
    {
     "name": "stdout",
     "output_type": "stream",
     "text": [
      "[ 1.65808234 -5.55765238 -1.97096722 -7.7313423  -4.64281421 -2.54099261\n",
      " -4.10349035 -2.72243869]\n"
     ]
    }
   ],
   "source": [
    "print(c_l_f.intercept_)"
   ]
  },
  {
   "cell_type": "code",
   "execution_count": 143,
   "metadata": {},
   "outputs": [
    {
     "name": "stdout",
     "output_type": "stream",
     "text": [
      "['Adenomera' 'Adenomera' 'Adenomera' ... 'Scinax' 'Scinax' 'Scinax']\n"
     ]
    }
   ],
   "source": [
    "print(c_l_f.predict(test_x))"
   ]
  },
  {
   "cell_type": "code",
   "execution_count": 144,
   "metadata": {},
   "outputs": [
    {
     "data": {
      "text/plain": [
       "0.0"
      ]
     },
     "execution_count": 144,
     "metadata": {},
     "output_type": "execute_result"
    }
   ],
   "source": [
    "c_l_f.score(test_x, test_y_species)"
   ]
  },
  {
   "cell_type": "code",
   "execution_count": 145,
   "metadata": {},
   "outputs": [],
   "source": [
    "y_score = c_l_f.decision_function(test_x)\n"
   ]
  },
  {
   "cell_type": "code",
   "execution_count": 146,
   "metadata": {},
   "outputs": [],
   "source": [
    "# L1 penalised SVMs for' Label -Species'"
   ]
  },
  {
   "cell_type": "code",
   "execution_count": 147,
   "metadata": {},
   "outputs": [
    {
     "data": {
      "text/plain": [
       "LinearSVC(C=1.0, class_weight=None, dual=False, fit_intercept=True,\n",
       "     intercept_scaling=1, loss='squared_hinge', max_iter=1000,\n",
       "     multi_class='ovr', penalty='l1', random_state=None, tol=0.0001,\n",
       "     verbose=0)"
      ]
     },
     "execution_count": 147,
     "metadata": {},
     "output_type": "execute_result"
    }
   ],
   "source": [
    "c_l_f = svm.LinearSVC(penalty='l1',dual=False)\n",
    "c_l_f.fit(train_x, train_y_species)"
   ]
  },
  {
   "cell_type": "code",
   "execution_count": 148,
   "metadata": {},
   "outputs": [
    {
     "name": "stdout",
     "output_type": "stream",
     "text": [
      "[ 0.29929081 -2.39507834 -5.51544205 -2.80484429 -4.34030391 -8.7485411\n",
      " -4.52142739 -2.39887354 -4.23378882 -2.72940798]\n"
     ]
    }
   ],
   "source": [
    "print(c_l_f.intercept_)"
   ]
  },
  {
   "cell_type": "code",
   "execution_count": 149,
   "metadata": {},
   "outputs": [
    {
     "name": "stdout",
     "output_type": "stream",
     "text": [
      "['AdenomeraAndre' 'AdenomeraAndre' 'AdenomeraAndre' ... 'ScinaxRuber'\n",
      " 'ScinaxRuber' 'ScinaxRuber']\n"
     ]
    }
   ],
   "source": [
    "print(c_l_f.predict(test_x))"
   ]
  },
  {
   "cell_type": "code",
   "execution_count": 150,
   "metadata": {},
   "outputs": [
    {
     "data": {
      "text/plain": [
       "0.9620018535681186"
      ]
     },
     "execution_count": 150,
     "metadata": {},
     "output_type": "execute_result"
    }
   ],
   "source": [
    "c_l_f.score(test_x, test_y_species)"
   ]
  },
  {
   "cell_type": "code",
   "execution_count": 151,
   "metadata": {},
   "outputs": [],
   "source": [
    "y_score = c_l_f.decision_function(test_x)"
   ]
  },
  {
   "cell_type": "code",
   "execution_count": 152,
   "metadata": {},
   "outputs": [],
   "source": [
    "#  \"FAMILY\""
   ]
  },
  {
   "cell_type": "code",
   "execution_count": 153,
   "metadata": {},
   "outputs": [
    {
     "name": "stdout",
     "output_type": "stream",
     "text": [
      "Resampled dataset shape Counter({'Bufonidae': 3105, 'Leptodactylidae': 3105, 'Hylidae': 3104, 'Dendrobatidae': 3104})\n"
     ]
    },
    {
     "data": {
      "text/html": [
       "<div>\n",
       "<style scoped>\n",
       "    .dataframe tbody tr th:only-of-type {\n",
       "        vertical-align: middle;\n",
       "    }\n",
       "\n",
       "    .dataframe tbody tr th {\n",
       "        vertical-align: top;\n",
       "    }\n",
       "\n",
       "    .dataframe thead th {\n",
       "        text-align: right;\n",
       "    }\n",
       "</style>\n",
       "<table border=\"1\" class=\"dataframe\">\n",
       "  <thead>\n",
       "    <tr style=\"text-align: right;\">\n",
       "      <th></th>\n",
       "      <th>Family</th>\n",
       "      <th>MFCCs_ 1</th>\n",
       "      <th>MFCCs_ 2</th>\n",
       "      <th>MFCCs_ 3</th>\n",
       "      <th>MFCCs_ 4</th>\n",
       "      <th>MFCCs_ 5</th>\n",
       "      <th>MFCCs_ 6</th>\n",
       "      <th>MFCCs_ 7</th>\n",
       "      <th>MFCCs_ 8</th>\n",
       "      <th>MFCCs_ 9</th>\n",
       "      <th>...</th>\n",
       "      <th>MFCCs_13</th>\n",
       "      <th>MFCCs_14</th>\n",
       "      <th>MFCCs_15</th>\n",
       "      <th>MFCCs_16</th>\n",
       "      <th>MFCCs_17</th>\n",
       "      <th>MFCCs_18</th>\n",
       "      <th>MFCCs_19</th>\n",
       "      <th>MFCCs_20</th>\n",
       "      <th>MFCCs_21</th>\n",
       "      <th>MFCCs_22</th>\n",
       "    </tr>\n",
       "  </thead>\n",
       "  <tbody>\n",
       "    <tr>\n",
       "      <th>0</th>\n",
       "      <td>Hylidae</td>\n",
       "      <td>0.787208</td>\n",
       "      <td>0.425996</td>\n",
       "      <td>0.353790</td>\n",
       "      <td>0.171814</td>\n",
       "      <td>0.038068</td>\n",
       "      <td>0.138269</td>\n",
       "      <td>-0.000179</td>\n",
       "      <td>-0.017025</td>\n",
       "      <td>0.094149</td>\n",
       "      <td>...</td>\n",
       "      <td>0.030378</td>\n",
       "      <td>-0.054265</td>\n",
       "      <td>0.012573</td>\n",
       "      <td>0.043499</td>\n",
       "      <td>-0.009035</td>\n",
       "      <td>0.009776</td>\n",
       "      <td>0.010440</td>\n",
       "      <td>-0.026559</td>\n",
       "      <td>0.024848</td>\n",
       "      <td>0.028371</td>\n",
       "    </tr>\n",
       "    <tr>\n",
       "      <th>1</th>\n",
       "      <td>Leptodactylidae</td>\n",
       "      <td>0.672657</td>\n",
       "      <td>0.259659</td>\n",
       "      <td>0.242058</td>\n",
       "      <td>0.439872</td>\n",
       "      <td>0.120675</td>\n",
       "      <td>0.012561</td>\n",
       "      <td>-0.041593</td>\n",
       "      <td>0.025517</td>\n",
       "      <td>0.195460</td>\n",
       "      <td>...</td>\n",
       "      <td>0.220368</td>\n",
       "      <td>-0.045717</td>\n",
       "      <td>-0.176745</td>\n",
       "      <td>0.087006</td>\n",
       "      <td>0.133727</td>\n",
       "      <td>0.002744</td>\n",
       "      <td>-0.063431</td>\n",
       "      <td>-0.080759</td>\n",
       "      <td>0.023353</td>\n",
       "      <td>0.099542</td>\n",
       "    </tr>\n",
       "    <tr>\n",
       "      <th>2</th>\n",
       "      <td>Hylidae</td>\n",
       "      <td>0.760923</td>\n",
       "      <td>0.313121</td>\n",
       "      <td>0.458739</td>\n",
       "      <td>0.214708</td>\n",
       "      <td>-0.108227</td>\n",
       "      <td>0.095965</td>\n",
       "      <td>0.162258</td>\n",
       "      <td>-0.029846</td>\n",
       "      <td>-0.037755</td>\n",
       "      <td>...</td>\n",
       "      <td>0.006196</td>\n",
       "      <td>0.023162</td>\n",
       "      <td>0.004292</td>\n",
       "      <td>-0.013521</td>\n",
       "      <td>-0.017532</td>\n",
       "      <td>0.043173</td>\n",
       "      <td>0.004230</td>\n",
       "      <td>-0.037855</td>\n",
       "      <td>0.018328</td>\n",
       "      <td>0.018345</td>\n",
       "    </tr>\n",
       "    <tr>\n",
       "      <th>3</th>\n",
       "      <td>Leptodactylidae</td>\n",
       "      <td>0.682424</td>\n",
       "      <td>0.400053</td>\n",
       "      <td>0.242605</td>\n",
       "      <td>0.339443</td>\n",
       "      <td>0.062186</td>\n",
       "      <td>-0.036813</td>\n",
       "      <td>-0.062310</td>\n",
       "      <td>0.039456</td>\n",
       "      <td>0.204319</td>\n",
       "      <td>...</td>\n",
       "      <td>0.230645</td>\n",
       "      <td>0.022927</td>\n",
       "      <td>-0.125848</td>\n",
       "      <td>0.026925</td>\n",
       "      <td>0.123241</td>\n",
       "      <td>0.051225</td>\n",
       "      <td>0.032028</td>\n",
       "      <td>-0.054123</td>\n",
       "      <td>-0.018841</td>\n",
       "      <td>0.127118</td>\n",
       "    </tr>\n",
       "    <tr>\n",
       "      <th>4</th>\n",
       "      <td>Hylidae</td>\n",
       "      <td>0.793003</td>\n",
       "      <td>0.421035</td>\n",
       "      <td>0.343894</td>\n",
       "      <td>0.166719</td>\n",
       "      <td>0.048815</td>\n",
       "      <td>0.121561</td>\n",
       "      <td>0.025980</td>\n",
       "      <td>-0.002710</td>\n",
       "      <td>0.108152</td>\n",
       "      <td>...</td>\n",
       "      <td>0.050770</td>\n",
       "      <td>-0.041660</td>\n",
       "      <td>-0.024221</td>\n",
       "      <td>0.039868</td>\n",
       "      <td>0.005549</td>\n",
       "      <td>-0.009853</td>\n",
       "      <td>0.025797</td>\n",
       "      <td>-0.011745</td>\n",
       "      <td>-0.009790</td>\n",
       "      <td>0.065746</td>\n",
       "    </tr>\n",
       "  </tbody>\n",
       "</table>\n",
       "<p>5 rows × 23 columns</p>\n",
       "</div>"
      ],
      "text/plain": [
       "            Family  MFCCs_ 1  MFCCs_ 2  MFCCs_ 3  MFCCs_ 4  MFCCs_ 5  \\\n",
       "0          Hylidae  0.787208  0.425996  0.353790  0.171814  0.038068   \n",
       "1  Leptodactylidae  0.672657  0.259659  0.242058  0.439872  0.120675   \n",
       "2          Hylidae  0.760923  0.313121  0.458739  0.214708 -0.108227   \n",
       "3  Leptodactylidae  0.682424  0.400053  0.242605  0.339443  0.062186   \n",
       "4          Hylidae  0.793003  0.421035  0.343894  0.166719  0.048815   \n",
       "\n",
       "   MFCCs_ 6  MFCCs_ 7  MFCCs_ 8  MFCCs_ 9    ...     MFCCs_13  MFCCs_14  \\\n",
       "0  0.138269 -0.000179 -0.017025  0.094149    ...     0.030378 -0.054265   \n",
       "1  0.012561 -0.041593  0.025517  0.195460    ...     0.220368 -0.045717   \n",
       "2  0.095965  0.162258 -0.029846 -0.037755    ...     0.006196  0.023162   \n",
       "3 -0.036813 -0.062310  0.039456  0.204319    ...     0.230645  0.022927   \n",
       "4  0.121561  0.025980 -0.002710  0.108152    ...     0.050770 -0.041660   \n",
       "\n",
       "   MFCCs_15  MFCCs_16  MFCCs_17  MFCCs_18  MFCCs_19  MFCCs_20  MFCCs_21  \\\n",
       "0  0.012573  0.043499 -0.009035  0.009776  0.010440 -0.026559  0.024848   \n",
       "1 -0.176745  0.087006  0.133727  0.002744 -0.063431 -0.080759  0.023353   \n",
       "2  0.004292 -0.013521 -0.017532  0.043173  0.004230 -0.037855  0.018328   \n",
       "3 -0.125848  0.026925  0.123241  0.051225  0.032028 -0.054123 -0.018841   \n",
       "4 -0.024221  0.039868  0.005549 -0.009853  0.025797 -0.011745 -0.009790   \n",
       "\n",
       "   MFCCs_22  \n",
       "0  0.028371  \n",
       "1  0.099542  \n",
       "2  0.018345  \n",
       "3  0.127118  \n",
       "4  0.065746  \n",
       "\n",
       "[5 rows x 23 columns]"
      ]
     },
     "metadata": {},
     "output_type": "display_data"
    }
   ],
   "source": [
    "from collections import Counter\n",
    "from sklearn.datasets import make_classification\n",
    "from imblearn.over_sampling import SMOTE\n",
    "\n",
    "headersx = ['MFCCs_ 1', 'MFCCs_ 2', 'MFCCs_ 3', 'MFCCs_ 4', 'MFCCs_ 5', 'MFCCs_ 6', 'MFCCs_ 7', 'MFCCs_ 8', 'MFCCs_ 9', 'MFCCs_10', 'MFCCs_11', 'MFCCs_12', 'MFCCs_13', 'MFCCs_14', 'MFCCs_15', 'MFCCs_16', 'MFCCs_17', 'MFCCs_18', 'MFCCs_19', 'MFCCs_20', 'MFCCs_21', 'MFCCs_22']\n",
    "headersy = ['Family']\n",
    "smote = SMOTE( kind='svm' )\n",
    "smote_x, smote_y = smote.fit_sample(train_x, train_y_family)\n",
    "print('Resampled dataset shape {}'.format(Counter(smote_y)))\n",
    "smote_x = pd.DataFrame(smote_x,columns=headersx)\n",
    "smote_y = pd.DataFrame(smote_y,columns=headersy)\n",
    "\n",
    "df_smote_family =pd.concat([smote_y,smote_x],axis=1)\n",
    " \n",
    "display(df_smote_family.head())"
   ]
  },
  {
   "cell_type": "code",
   "execution_count": 154,
   "metadata": {},
   "outputs": [],
   "source": [
    "df_smote_train_family = df_smote_family.drop(['Family'], axis=1)\n"
   ]
  },
  {
   "cell_type": "code",
   "execution_count": 155,
   "metadata": {},
   "outputs": [],
   "source": [
    "df_smote_class1_family = df_smote_family.iloc[:,0]\n",
    "df_smote_class_family = df_smote_class1_family.to_frame();\n"
   ]
  },
  {
   "cell_type": "code",
   "execution_count": 156,
   "metadata": {},
   "outputs": [
    {
     "name": "stdout",
     "output_type": "stream",
     "text": [
      "Resampled dataset shape Counter({'Leptodactylidae': 1315, 'Hylidae': 1315, 'Bufonidae': 1314, 'Dendrobatidae': 1314})\n"
     ]
    }
   ],
   "source": [
    "\n",
    "headersx = ['MFCCs_ 1', 'MFCCs_ 2', 'MFCCs_ 3', 'MFCCs_ 4', 'MFCCs_ 5', 'MFCCs_ 6', 'MFCCs_ 7', 'MFCCs_ 8', 'MFCCs_ 9', 'MFCCs_10', 'MFCCs_11', 'MFCCs_12', 'MFCCs_13', 'MFCCs_14', 'MFCCs_15', 'MFCCs_16', 'MFCCs_17', 'MFCCs_18', 'MFCCs_19', 'MFCCs_20', 'MFCCs_21', 'MFCCs_22']\n",
    "headersy = ['Family']\n",
    "smote = SMOTE( kind='svm' )\n",
    "smote_x, smote_y = smote.fit_sample(test_x, test_y_family)\n",
    "print('Resampled dataset shape {}'.format(Counter(smote_y)))\n",
    "\n",
    "smote_x = pd.DataFrame(smote_x,columns=headersx)\n",
    "smote_y = pd.DataFrame(smote_y,columns=headersy)\n",
    "\n",
    "df_smote_familtest_y =pd.concat([smote_y,smote_x],axis=1)\n"
   ]
  },
  {
   "cell_type": "code",
   "execution_count": 157,
   "metadata": {},
   "outputs": [],
   "source": [
    "test_x_fam = df_smote_familtest_y.drop(['Family'], axis=1)\n",
    "test_y_fam1 = df_smote_familtest_y.iloc[:,0]\n",
    "test_y_fam = test_y_fam1.to_frame()\n"
   ]
  },
  {
   "cell_type": "code",
   "execution_count": 158,
   "metadata": {},
   "outputs": [
    {
     "data": {
      "text/plain": [
       "LinearSVC(C=1.0, class_weight=None, dual=False, fit_intercept=True,\n",
       "     intercept_scaling=1, loss='squared_hinge', max_iter=1000,\n",
       "     multi_class='ovr', penalty='l1', random_state=None, tol=0.0001,\n",
       "     verbose=0)"
      ]
     },
     "execution_count": 158,
     "metadata": {},
     "output_type": "execute_result"
    }
   ],
   "source": [
    "c_l_f = svm.LinearSVC(penalty='l1',dual=False)\n",
    "c_l_f.fit(df_smote_train_family, df_smote_class_family)"
   ]
  },
  {
   "cell_type": "code",
   "execution_count": 159,
   "metadata": {},
   "outputs": [
    {
     "name": "stdout",
     "output_type": "stream",
     "text": [
      "[-8.85861483 -7.65860594 -0.24527751  0.98346311]\n"
     ]
    }
   ],
   "source": [
    "print(c_l_f.intercept_)"
   ]
  },
  {
   "cell_type": "code",
   "execution_count": 160,
   "metadata": {},
   "outputs": [
    {
     "name": "stdout",
     "output_type": "stream",
     "text": [
      "['Dendrobatidae' 'Dendrobatidae' 'Dendrobatidae' ... 'Hylidae' 'Hylidae'\n",
      " 'Hylidae']\n"
     ]
    }
   ],
   "source": [
    "print(c_l_f.predict(test_x_fam))"
   ]
  },
  {
   "cell_type": "code",
   "execution_count": 161,
   "metadata": {},
   "outputs": [
    {
     "data": {
      "text/plain": [
       "0.7666413084823127"
      ]
     },
     "execution_count": 161,
     "metadata": {},
     "output_type": "execute_result"
    }
   ],
   "source": [
    "c_l_f.score(test_x_fam, test_y_fam)"
   ]
  },
  {
   "cell_type": "code",
   "execution_count": 162,
   "metadata": {},
   "outputs": [],
   "source": [
    "y_score = c_l_f.decision_function(test_x_fam)"
   ]
  },
  {
   "cell_type": "code",
   "execution_count": 163,
   "metadata": {},
   "outputs": [],
   "source": [
    "# \"GENUS\""
   ]
  },
  {
   "cell_type": "code",
   "execution_count": 164,
   "metadata": {},
   "outputs": [
    {
     "name": "stdout",
     "output_type": "stream",
     "text": [
      "Resampled dataset shape Counter({'Osteocephalus': 2917, 'Adenomera': 2917, 'Scinax': 2917, 'Hypsiboas': 2917, 'Leptodactylus': 2917, 'Ameerega': 2916, 'Rhinella': 2916, 'Dendropsophus': 2916})\n"
     ]
    }
   ],
   "source": [
    "\n",
    "headersx = ['MFCCs_ 1', 'MFCCs_ 2', 'MFCCs_ 3', 'MFCCs_ 4', 'MFCCs_ 5', 'MFCCs_ 6', 'MFCCs_ 7', 'MFCCs_ 8', 'MFCCs_ 9', 'MFCCs_10', 'MFCCs_11', 'MFCCs_12', 'MFCCs_13', 'MFCCs_14', 'MFCCs_15', 'MFCCs_16', 'MFCCs_17', 'MFCCs_18', 'MFCCs_19', 'MFCCs_20', 'MFCCs_21', 'MFCCs_22']\n",
    "headersy = ['Genus']\n",
    "smote = SMOTE( kind='svm' )\n",
    "smote_x, smote_y = smote.fit_sample(train_x, train_y_genus)\n",
    "print('Resampled dataset shape {}'.format(Counter(smote_y)))\n",
    "\n",
    "smote_x = pd.DataFrame(smote_x,columns=headersx)\n",
    "smote_y = pd.DataFrame(smote_y,columns=headersy)\n",
    "\n",
    "df_smote_genus =pd.concat([smote_y,smote_x],axis=1)\n"
   ]
  },
  {
   "cell_type": "code",
   "execution_count": 165,
   "metadata": {},
   "outputs": [
    {
     "data": {
      "text/html": [
       "<div>\n",
       "<style scoped>\n",
       "    .dataframe tbody tr th:only-of-type {\n",
       "        vertical-align: middle;\n",
       "    }\n",
       "\n",
       "    .dataframe tbody tr th {\n",
       "        vertical-align: top;\n",
       "    }\n",
       "\n",
       "    .dataframe thead th {\n",
       "        text-align: right;\n",
       "    }\n",
       "</style>\n",
       "<table border=\"1\" class=\"dataframe\">\n",
       "  <thead>\n",
       "    <tr style=\"text-align: right;\">\n",
       "      <th></th>\n",
       "      <th>MFCCs_ 1</th>\n",
       "      <th>MFCCs_ 2</th>\n",
       "      <th>MFCCs_ 3</th>\n",
       "      <th>MFCCs_ 4</th>\n",
       "      <th>MFCCs_ 5</th>\n",
       "      <th>MFCCs_ 6</th>\n",
       "      <th>MFCCs_ 7</th>\n",
       "      <th>MFCCs_ 8</th>\n",
       "      <th>MFCCs_ 9</th>\n",
       "      <th>MFCCs_10</th>\n",
       "      <th>...</th>\n",
       "      <th>MFCCs_13</th>\n",
       "      <th>MFCCs_14</th>\n",
       "      <th>MFCCs_15</th>\n",
       "      <th>MFCCs_16</th>\n",
       "      <th>MFCCs_17</th>\n",
       "      <th>MFCCs_18</th>\n",
       "      <th>MFCCs_19</th>\n",
       "      <th>MFCCs_20</th>\n",
       "      <th>MFCCs_21</th>\n",
       "      <th>MFCCs_22</th>\n",
       "    </tr>\n",
       "  </thead>\n",
       "  <tbody>\n",
       "    <tr>\n",
       "      <th>0</th>\n",
       "      <td>0.787208</td>\n",
       "      <td>0.425996</td>\n",
       "      <td>0.353790</td>\n",
       "      <td>0.171814</td>\n",
       "      <td>0.038068</td>\n",
       "      <td>0.138269</td>\n",
       "      <td>-0.000179</td>\n",
       "      <td>-0.017025</td>\n",
       "      <td>0.094149</td>\n",
       "      <td>0.022595</td>\n",
       "      <td>...</td>\n",
       "      <td>0.030378</td>\n",
       "      <td>-0.054265</td>\n",
       "      <td>0.012573</td>\n",
       "      <td>0.043499</td>\n",
       "      <td>-0.009035</td>\n",
       "      <td>0.009776</td>\n",
       "      <td>0.010440</td>\n",
       "      <td>-0.026559</td>\n",
       "      <td>0.024848</td>\n",
       "      <td>0.028371</td>\n",
       "    </tr>\n",
       "    <tr>\n",
       "      <th>1</th>\n",
       "      <td>0.672657</td>\n",
       "      <td>0.259659</td>\n",
       "      <td>0.242058</td>\n",
       "      <td>0.439872</td>\n",
       "      <td>0.120675</td>\n",
       "      <td>0.012561</td>\n",
       "      <td>-0.041593</td>\n",
       "      <td>0.025517</td>\n",
       "      <td>0.195460</td>\n",
       "      <td>0.031288</td>\n",
       "      <td>...</td>\n",
       "      <td>0.220368</td>\n",
       "      <td>-0.045717</td>\n",
       "      <td>-0.176745</td>\n",
       "      <td>0.087006</td>\n",
       "      <td>0.133727</td>\n",
       "      <td>0.002744</td>\n",
       "      <td>-0.063431</td>\n",
       "      <td>-0.080759</td>\n",
       "      <td>0.023353</td>\n",
       "      <td>0.099542</td>\n",
       "    </tr>\n",
       "    <tr>\n",
       "      <th>2</th>\n",
       "      <td>0.760923</td>\n",
       "      <td>0.313121</td>\n",
       "      <td>0.458739</td>\n",
       "      <td>0.214708</td>\n",
       "      <td>-0.108227</td>\n",
       "      <td>0.095965</td>\n",
       "      <td>0.162258</td>\n",
       "      <td>-0.029846</td>\n",
       "      <td>-0.037755</td>\n",
       "      <td>0.092195</td>\n",
       "      <td>...</td>\n",
       "      <td>0.006196</td>\n",
       "      <td>0.023162</td>\n",
       "      <td>0.004292</td>\n",
       "      <td>-0.013521</td>\n",
       "      <td>-0.017532</td>\n",
       "      <td>0.043173</td>\n",
       "      <td>0.004230</td>\n",
       "      <td>-0.037855</td>\n",
       "      <td>0.018328</td>\n",
       "      <td>0.018345</td>\n",
       "    </tr>\n",
       "    <tr>\n",
       "      <th>3</th>\n",
       "      <td>0.682424</td>\n",
       "      <td>0.400053</td>\n",
       "      <td>0.242605</td>\n",
       "      <td>0.339443</td>\n",
       "      <td>0.062186</td>\n",
       "      <td>-0.036813</td>\n",
       "      <td>-0.062310</td>\n",
       "      <td>0.039456</td>\n",
       "      <td>0.204319</td>\n",
       "      <td>0.084668</td>\n",
       "      <td>...</td>\n",
       "      <td>0.230645</td>\n",
       "      <td>0.022927</td>\n",
       "      <td>-0.125848</td>\n",
       "      <td>0.026925</td>\n",
       "      <td>0.123241</td>\n",
       "      <td>0.051225</td>\n",
       "      <td>0.032028</td>\n",
       "      <td>-0.054123</td>\n",
       "      <td>-0.018841</td>\n",
       "      <td>0.127118</td>\n",
       "    </tr>\n",
       "    <tr>\n",
       "      <th>4</th>\n",
       "      <td>0.793003</td>\n",
       "      <td>0.421035</td>\n",
       "      <td>0.343894</td>\n",
       "      <td>0.166719</td>\n",
       "      <td>0.048815</td>\n",
       "      <td>0.121561</td>\n",
       "      <td>0.025980</td>\n",
       "      <td>-0.002710</td>\n",
       "      <td>0.108152</td>\n",
       "      <td>0.032671</td>\n",
       "      <td>...</td>\n",
       "      <td>0.050770</td>\n",
       "      <td>-0.041660</td>\n",
       "      <td>-0.024221</td>\n",
       "      <td>0.039868</td>\n",
       "      <td>0.005549</td>\n",
       "      <td>-0.009853</td>\n",
       "      <td>0.025797</td>\n",
       "      <td>-0.011745</td>\n",
       "      <td>-0.009790</td>\n",
       "      <td>0.065746</td>\n",
       "    </tr>\n",
       "  </tbody>\n",
       "</table>\n",
       "<p>5 rows × 22 columns</p>\n",
       "</div>"
      ],
      "text/plain": [
       "   MFCCs_ 1  MFCCs_ 2  MFCCs_ 3  MFCCs_ 4  MFCCs_ 5  MFCCs_ 6  MFCCs_ 7  \\\n",
       "0  0.787208  0.425996  0.353790  0.171814  0.038068  0.138269 -0.000179   \n",
       "1  0.672657  0.259659  0.242058  0.439872  0.120675  0.012561 -0.041593   \n",
       "2  0.760923  0.313121  0.458739  0.214708 -0.108227  0.095965  0.162258   \n",
       "3  0.682424  0.400053  0.242605  0.339443  0.062186 -0.036813 -0.062310   \n",
       "4  0.793003  0.421035  0.343894  0.166719  0.048815  0.121561  0.025980   \n",
       "\n",
       "   MFCCs_ 8  MFCCs_ 9  MFCCs_10    ...     MFCCs_13  MFCCs_14  MFCCs_15  \\\n",
       "0 -0.017025  0.094149  0.022595    ...     0.030378 -0.054265  0.012573   \n",
       "1  0.025517  0.195460  0.031288    ...     0.220368 -0.045717 -0.176745   \n",
       "2 -0.029846 -0.037755  0.092195    ...     0.006196  0.023162  0.004292   \n",
       "3  0.039456  0.204319  0.084668    ...     0.230645  0.022927 -0.125848   \n",
       "4 -0.002710  0.108152  0.032671    ...     0.050770 -0.041660 -0.024221   \n",
       "\n",
       "   MFCCs_16  MFCCs_17  MFCCs_18  MFCCs_19  MFCCs_20  MFCCs_21  MFCCs_22  \n",
       "0  0.043499 -0.009035  0.009776  0.010440 -0.026559  0.024848  0.028371  \n",
       "1  0.087006  0.133727  0.002744 -0.063431 -0.080759  0.023353  0.099542  \n",
       "2 -0.013521 -0.017532  0.043173  0.004230 -0.037855  0.018328  0.018345  \n",
       "3  0.026925  0.123241  0.051225  0.032028 -0.054123 -0.018841  0.127118  \n",
       "4  0.039868  0.005549 -0.009853  0.025797 -0.011745 -0.009790  0.065746  \n",
       "\n",
       "[5 rows x 22 columns]"
      ]
     },
     "metadata": {},
     "output_type": "display_data"
    }
   ],
   "source": [
    "df_smote_train_genus = df_smote_genus.drop(['Genus'], axis=1)\n",
    "display(df_smote_train_genus.head())"
   ]
  },
  {
   "cell_type": "code",
   "execution_count": 166,
   "metadata": {},
   "outputs": [],
   "source": [
    "df_smote_class1_genus = df_smote_genus.iloc[:,0]\n",
    "df_smote_class_genus = df_smote_class1_genus.to_frame();\n"
   ]
  },
  {
   "cell_type": "code",
   "execution_count": 167,
   "metadata": {},
   "outputs": [
    {
     "name": "stdout",
     "output_type": "stream",
     "text": [
      "Resampled dataset shape Counter({'Osteocephalus': 1233, 'Adenomera': 1233, 'Ameerega': 1233, 'Scinax': 1232, 'Rhinella': 1232, 'Hypsiboas': 1232, 'Dendropsophus': 1232, 'Leptodactylus': 1232})\n"
     ]
    }
   ],
   "source": [
    "\n",
    "headersx = ['MFCCs_ 1', 'MFCCs_ 2', 'MFCCs_ 3', 'MFCCs_ 4', 'MFCCs_ 5', 'MFCCs_ 6', 'MFCCs_ 7', 'MFCCs_ 8', 'MFCCs_ 9', 'MFCCs_10', 'MFCCs_11', 'MFCCs_12', 'MFCCs_13', 'MFCCs_14', 'MFCCs_15', 'MFCCs_16', 'MFCCs_17', 'MFCCs_18', 'MFCCs_19', 'MFCCs_20', 'MFCCs_21', 'MFCCs_22']\n",
    "headersy = ['Genus']\n",
    "smote = SMOTE( kind='svm' )\n",
    "smote_x, smote_y = smote.fit_sample(test_x, test_y_genus)\n",
    "print('Resampled dataset shape {}'.format(Counter(smote_y)))\n",
    "\n",
    "smote_x = pd.DataFrame(smote_x,columns=headersx)\n",
    "smote_y = pd.DataFrame(smote_y,columns=headersy)\n",
    "df_smote_genus_test =pd.concat([smote_y,smote_x],axis=1)\n",
    " "
   ]
  },
  {
   "cell_type": "code",
   "execution_count": 168,
   "metadata": {},
   "outputs": [],
   "source": [
    "test_x_gen = df_smote_genus_test.drop(['Genus'], axis=1)\n",
    "test_y_gen1 = df_smote_genus_test.iloc[:,0]\n",
    "test_y_gen = test_y_gen1.to_frame()"
   ]
  },
  {
   "cell_type": "code",
   "execution_count": 169,
   "metadata": {},
   "outputs": [
    {
     "data": {
      "text/plain": [
       "LinearSVC(C=1.0, class_weight=None, dual=False, fit_intercept=True,\n",
       "     intercept_scaling=1, loss='squared_hinge', max_iter=1000,\n",
       "     multi_class='ovr', penalty='l1', random_state=None, tol=0.0001,\n",
       "     verbose=0)"
      ]
     },
     "execution_count": 169,
     "metadata": {},
     "output_type": "execute_result"
    }
   ],
   "source": [
    "c_l_f = svm.LinearSVC(penalty='l1',dual=False)\n",
    "c_l_f.fit(df_smote_train_genus, df_smote_class_genus)"
   ]
  },
  {
   "cell_type": "code",
   "execution_count": 170,
   "metadata": {},
   "outputs": [
    {
     "name": "stdout",
     "output_type": "stream",
     "text": [
      "[  0.45951229  -9.35463059  -3.91065488  -8.14011229  -9.84201579\n",
      "  -8.26236557 -10.66299528  -6.16298925]\n"
     ]
    }
   ],
   "source": [
    "print(c_l_f.intercept_)"
   ]
  },
  {
   "cell_type": "code",
   "execution_count": 171,
   "metadata": {},
   "outputs": [
    {
     "name": "stdout",
     "output_type": "stream",
     "text": [
      "['Ameerega' 'Ameerega' 'Ameerega' ... 'Leptodactylus' 'Leptodactylus'\n",
      " 'Leptodactylus']\n"
     ]
    }
   ],
   "source": [
    "print(c_l_f.predict(test_x_gen))"
   ]
  },
  {
   "cell_type": "code",
   "execution_count": 172,
   "metadata": {},
   "outputs": [
    {
     "data": {
      "text/plain": [
       "0.8600263718429861"
      ]
     },
     "execution_count": 172,
     "metadata": {},
     "output_type": "execute_result"
    }
   ],
   "source": [
    "c_l_f.score(test_x_gen, test_y_gen)"
   ]
  },
  {
   "cell_type": "code",
   "execution_count": 173,
   "metadata": {},
   "outputs": [],
   "source": [
    "#  \"SPECIES\""
   ]
  },
  {
   "cell_type": "code",
   "execution_count": 174,
   "metadata": {},
   "outputs": [
    {
     "name": "stdout",
     "output_type": "stream",
     "text": [
      "Resampled dataset shape Counter({'AdenomeraHylaedactylus': 2444, 'Ameeregatrivittata': 2444, 'HypsiboasCinerascens': 2444, 'LeptodactylusFuscus': 2444, 'AdenomeraAndre': 2444, 'ScinaxRuber': 2444, 'HylaMinuta': 2443, 'Rhinellagranulosa': 2443, 'OsteocephalusOophagus': 2443, 'HypsiboasCordobae': 2443})\n"
     ]
    }
   ],
   "source": [
    "\n",
    "headersx = ['MFCCs_ 1', 'MFCCs_ 2', 'MFCCs_ 3', 'MFCCs_ 4', 'MFCCs_ 5', 'MFCCs_ 6', 'MFCCs_ 7', 'MFCCs_ 8', 'MFCCs_ 9', 'MFCCs_10', 'MFCCs_11', 'MFCCs_12', 'MFCCs_13', 'MFCCs_14', 'MFCCs_15', 'MFCCs_16', 'MFCCs_17', 'MFCCs_18', 'MFCCs_19', 'MFCCs_20', 'MFCCs_21', 'MFCCs_22']\n",
    "headersy = ['Species']\n",
    "smote = SMOTE( kind='svm' )\n",
    "smote_x, smote_y = smote.fit_sample(train_x, train_y_species)\n",
    "print('Resampled dataset shape {}'.format(Counter(smote_y)))\n",
    "\n",
    "smote_x = pd.DataFrame(smote_x,columns=headersx)\n",
    "smote_y = pd.DataFrame(smote_y,columns=headersy)\n",
    "\n",
    "df_smote_species =pd.concat([smote_y,smote_x],axis=1)\n",
    " "
   ]
  },
  {
   "cell_type": "code",
   "execution_count": 175,
   "metadata": {},
   "outputs": [
    {
     "data": {
      "text/html": [
       "<div>\n",
       "<style scoped>\n",
       "    .dataframe tbody tr th:only-of-type {\n",
       "        vertical-align: middle;\n",
       "    }\n",
       "\n",
       "    .dataframe tbody tr th {\n",
       "        vertical-align: top;\n",
       "    }\n",
       "\n",
       "    .dataframe thead th {\n",
       "        text-align: right;\n",
       "    }\n",
       "</style>\n",
       "<table border=\"1\" class=\"dataframe\">\n",
       "  <thead>\n",
       "    <tr style=\"text-align: right;\">\n",
       "      <th></th>\n",
       "      <th>MFCCs_ 1</th>\n",
       "      <th>MFCCs_ 2</th>\n",
       "      <th>MFCCs_ 3</th>\n",
       "      <th>MFCCs_ 4</th>\n",
       "      <th>MFCCs_ 5</th>\n",
       "      <th>MFCCs_ 6</th>\n",
       "      <th>MFCCs_ 7</th>\n",
       "      <th>MFCCs_ 8</th>\n",
       "      <th>MFCCs_ 9</th>\n",
       "      <th>MFCCs_10</th>\n",
       "      <th>...</th>\n",
       "      <th>MFCCs_13</th>\n",
       "      <th>MFCCs_14</th>\n",
       "      <th>MFCCs_15</th>\n",
       "      <th>MFCCs_16</th>\n",
       "      <th>MFCCs_17</th>\n",
       "      <th>MFCCs_18</th>\n",
       "      <th>MFCCs_19</th>\n",
       "      <th>MFCCs_20</th>\n",
       "      <th>MFCCs_21</th>\n",
       "      <th>MFCCs_22</th>\n",
       "    </tr>\n",
       "  </thead>\n",
       "  <tbody>\n",
       "    <tr>\n",
       "      <th>0</th>\n",
       "      <td>0.787208</td>\n",
       "      <td>0.425996</td>\n",
       "      <td>0.353790</td>\n",
       "      <td>0.171814</td>\n",
       "      <td>0.038068</td>\n",
       "      <td>0.138269</td>\n",
       "      <td>-0.000179</td>\n",
       "      <td>-0.017025</td>\n",
       "      <td>0.094149</td>\n",
       "      <td>0.022595</td>\n",
       "      <td>...</td>\n",
       "      <td>0.030378</td>\n",
       "      <td>-0.054265</td>\n",
       "      <td>0.012573</td>\n",
       "      <td>0.043499</td>\n",
       "      <td>-0.009035</td>\n",
       "      <td>0.009776</td>\n",
       "      <td>0.010440</td>\n",
       "      <td>-0.026559</td>\n",
       "      <td>0.024848</td>\n",
       "      <td>0.028371</td>\n",
       "    </tr>\n",
       "    <tr>\n",
       "      <th>1</th>\n",
       "      <td>0.672657</td>\n",
       "      <td>0.259659</td>\n",
       "      <td>0.242058</td>\n",
       "      <td>0.439872</td>\n",
       "      <td>0.120675</td>\n",
       "      <td>0.012561</td>\n",
       "      <td>-0.041593</td>\n",
       "      <td>0.025517</td>\n",
       "      <td>0.195460</td>\n",
       "      <td>0.031288</td>\n",
       "      <td>...</td>\n",
       "      <td>0.220368</td>\n",
       "      <td>-0.045717</td>\n",
       "      <td>-0.176745</td>\n",
       "      <td>0.087006</td>\n",
       "      <td>0.133727</td>\n",
       "      <td>0.002744</td>\n",
       "      <td>-0.063431</td>\n",
       "      <td>-0.080759</td>\n",
       "      <td>0.023353</td>\n",
       "      <td>0.099542</td>\n",
       "    </tr>\n",
       "    <tr>\n",
       "      <th>2</th>\n",
       "      <td>0.760923</td>\n",
       "      <td>0.313121</td>\n",
       "      <td>0.458739</td>\n",
       "      <td>0.214708</td>\n",
       "      <td>-0.108227</td>\n",
       "      <td>0.095965</td>\n",
       "      <td>0.162258</td>\n",
       "      <td>-0.029846</td>\n",
       "      <td>-0.037755</td>\n",
       "      <td>0.092195</td>\n",
       "      <td>...</td>\n",
       "      <td>0.006196</td>\n",
       "      <td>0.023162</td>\n",
       "      <td>0.004292</td>\n",
       "      <td>-0.013521</td>\n",
       "      <td>-0.017532</td>\n",
       "      <td>0.043173</td>\n",
       "      <td>0.004230</td>\n",
       "      <td>-0.037855</td>\n",
       "      <td>0.018328</td>\n",
       "      <td>0.018345</td>\n",
       "    </tr>\n",
       "    <tr>\n",
       "      <th>3</th>\n",
       "      <td>0.682424</td>\n",
       "      <td>0.400053</td>\n",
       "      <td>0.242605</td>\n",
       "      <td>0.339443</td>\n",
       "      <td>0.062186</td>\n",
       "      <td>-0.036813</td>\n",
       "      <td>-0.062310</td>\n",
       "      <td>0.039456</td>\n",
       "      <td>0.204319</td>\n",
       "      <td>0.084668</td>\n",
       "      <td>...</td>\n",
       "      <td>0.230645</td>\n",
       "      <td>0.022927</td>\n",
       "      <td>-0.125848</td>\n",
       "      <td>0.026925</td>\n",
       "      <td>0.123241</td>\n",
       "      <td>0.051225</td>\n",
       "      <td>0.032028</td>\n",
       "      <td>-0.054123</td>\n",
       "      <td>-0.018841</td>\n",
       "      <td>0.127118</td>\n",
       "    </tr>\n",
       "    <tr>\n",
       "      <th>4</th>\n",
       "      <td>0.793003</td>\n",
       "      <td>0.421035</td>\n",
       "      <td>0.343894</td>\n",
       "      <td>0.166719</td>\n",
       "      <td>0.048815</td>\n",
       "      <td>0.121561</td>\n",
       "      <td>0.025980</td>\n",
       "      <td>-0.002710</td>\n",
       "      <td>0.108152</td>\n",
       "      <td>0.032671</td>\n",
       "      <td>...</td>\n",
       "      <td>0.050770</td>\n",
       "      <td>-0.041660</td>\n",
       "      <td>-0.024221</td>\n",
       "      <td>0.039868</td>\n",
       "      <td>0.005549</td>\n",
       "      <td>-0.009853</td>\n",
       "      <td>0.025797</td>\n",
       "      <td>-0.011745</td>\n",
       "      <td>-0.009790</td>\n",
       "      <td>0.065746</td>\n",
       "    </tr>\n",
       "  </tbody>\n",
       "</table>\n",
       "<p>5 rows × 22 columns</p>\n",
       "</div>"
      ],
      "text/plain": [
       "   MFCCs_ 1  MFCCs_ 2  MFCCs_ 3  MFCCs_ 4  MFCCs_ 5  MFCCs_ 6  MFCCs_ 7  \\\n",
       "0  0.787208  0.425996  0.353790  0.171814  0.038068  0.138269 -0.000179   \n",
       "1  0.672657  0.259659  0.242058  0.439872  0.120675  0.012561 -0.041593   \n",
       "2  0.760923  0.313121  0.458739  0.214708 -0.108227  0.095965  0.162258   \n",
       "3  0.682424  0.400053  0.242605  0.339443  0.062186 -0.036813 -0.062310   \n",
       "4  0.793003  0.421035  0.343894  0.166719  0.048815  0.121561  0.025980   \n",
       "\n",
       "   MFCCs_ 8  MFCCs_ 9  MFCCs_10    ...     MFCCs_13  MFCCs_14  MFCCs_15  \\\n",
       "0 -0.017025  0.094149  0.022595    ...     0.030378 -0.054265  0.012573   \n",
       "1  0.025517  0.195460  0.031288    ...     0.220368 -0.045717 -0.176745   \n",
       "2 -0.029846 -0.037755  0.092195    ...     0.006196  0.023162  0.004292   \n",
       "3  0.039456  0.204319  0.084668    ...     0.230645  0.022927 -0.125848   \n",
       "4 -0.002710  0.108152  0.032671    ...     0.050770 -0.041660 -0.024221   \n",
       "\n",
       "   MFCCs_16  MFCCs_17  MFCCs_18  MFCCs_19  MFCCs_20  MFCCs_21  MFCCs_22  \n",
       "0  0.043499 -0.009035  0.009776  0.010440 -0.026559  0.024848  0.028371  \n",
       "1  0.087006  0.133727  0.002744 -0.063431 -0.080759  0.023353  0.099542  \n",
       "2 -0.013521 -0.017532  0.043173  0.004230 -0.037855  0.018328  0.018345  \n",
       "3  0.026925  0.123241  0.051225  0.032028 -0.054123 -0.018841  0.127118  \n",
       "4  0.039868  0.005549 -0.009853  0.025797 -0.011745 -0.009790  0.065746  \n",
       "\n",
       "[5 rows x 22 columns]"
      ]
     },
     "metadata": {},
     "output_type": "display_data"
    }
   ],
   "source": [
    "df_smote_train_species = df_smote_species.drop(['Species'], axis=1)\n",
    "display(df_smote_train_species.head())"
   ]
  },
  {
   "cell_type": "code",
   "execution_count": 176,
   "metadata": {},
   "outputs": [],
   "source": [
    "df_smote_class1_species = df_smote_species.iloc[:,0]\n",
    "df_smote_class_species = df_smote_class1_species.to_frame();\n"
   ]
  },
  {
   "cell_type": "code",
   "execution_count": 177,
   "metadata": {},
   "outputs": [
    {
     "name": "stdout",
     "output_type": "stream",
     "text": [
      "Resampled dataset shape Counter({'AdenomeraHylaedactylus': 1034, 'ScinaxRuber': 1034, 'HylaMinuta': 1033, 'Rhinellagranulosa': 1033, 'Ameeregatrivittata': 1033, 'HypsiboasCinerascens': 1033, 'OsteocephalusOophagus': 1033, 'HypsiboasCordobae': 1033, 'LeptodactylusFuscus': 1033, 'AdenomeraAndre': 1033})\n"
     ]
    }
   ],
   "source": [
    "\n",
    "headersx = ['MFCCs_ 1', 'MFCCs_ 2', 'MFCCs_ 3', 'MFCCs_ 4', 'MFCCs_ 5', 'MFCCs_ 6', 'MFCCs_ 7', 'MFCCs_ 8', 'MFCCs_ 9', 'MFCCs_10', 'MFCCs_11', 'MFCCs_12', 'MFCCs_13', 'MFCCs_14', 'MFCCs_15', 'MFCCs_16', 'MFCCs_17', 'MFCCs_18', 'MFCCs_19', 'MFCCs_20', 'MFCCs_21', 'MFCCs_22']\n",
    "headersy = ['Species']\n",
    "smote = SMOTE( kind='svm' )\n",
    "smote_x, smote_y = smote.fit_sample(test_x, test_y_species)\n",
    "print('Resampled dataset shape {}'.format(Counter(smote_y)))\n",
    "\n",
    "smote_x = pd.DataFrame(smote_x,columns=headersx)\n",
    "smote_y = pd.DataFrame(smote_y,columns=headersy)\n",
    "\n",
    "df_smote_species_test =pd.concat([smote_y,smote_x],axis=1)\n",
    " "
   ]
  },
  {
   "cell_type": "code",
   "execution_count": 178,
   "metadata": {},
   "outputs": [],
   "source": [
    "test_x_sep = df_smote_species_test.drop(['Species'], axis=1)\n",
    "test_y_sep1 = df_smote_species_test.iloc[:,0]\n",
    "test_y_sep = test_y_sep1.to_frame()\n",
    "\n"
   ]
  },
  {
   "cell_type": "code",
   "execution_count": null,
   "metadata": {},
   "outputs": [],
   "source": [
    "c_l_f = svm.LinearSVC(penalty='l1',dual=False)\n",
    "c_l_f.fit(df_smote_train_species, df_smote_class_species)"
   ]
  },
  {
   "cell_type": "code",
   "execution_count": null,
   "metadata": {},
   "outputs": [],
   "source": [
    "c_l_f.score(test_x_sep, test_y_sep)\n",
    "y_score = c_l_f.decision_function(test_x_sep)\n"
   ]
  },
  {
   "cell_type": "code",
   "execution_count": null,
   "metadata": {},
   "outputs": [],
   "source": []
  },
  {
   "cell_type": "code",
   "execution_count": null,
   "metadata": {},
   "outputs": [],
   "source": []
  }
 ],
 "metadata": {
  "kernelspec": {
   "display_name": "Python 2",
   "language": "python",
   "name": "python2"
  },
  "language_info": {
   "codemirror_mode": {
    "name": "ipython",
    "version": 2
   },
   "file_extension": ".py",
   "mimetype": "text/x-python",
   "name": "python",
   "nbconvert_exporter": "python",
   "pygments_lexer": "ipython2",
   "version": "2.7.14"
  }
 },
 "nbformat": 4,
 "nbformat_minor": 2
}
